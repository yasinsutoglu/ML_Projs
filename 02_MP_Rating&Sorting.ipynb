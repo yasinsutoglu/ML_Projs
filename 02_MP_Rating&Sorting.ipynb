{
 "cells": [
  {
   "cell_type": "markdown",
   "id": "3bae336a-a923-4999-a853-ec09469e2064",
   "metadata": {},
   "source": [
    "# Product RATING Analytics"
   ]
  },
  {
   "cell_type": "markdown",
   "id": "21d57485-320e-4ee2-85a3-82ce547f31b1",
   "metadata": {},
   "source": [
    "**What Makes a Customer Buy a Product?** <br>\n",
    " ++ Social Proof (The wisdom of crowds => Rating);\n",
    "- Product scores calculation\n",
    "- sorting of products\n",
    "- sorting user comments on product detail pages\n",
    "- Design of page, process and interaction areas\n",
    "- feature trials\n",
    "- testing possible actions and reactions"
   ]
  },
  {
   "cell_type": "code",
   "execution_count": 1,
   "id": "fdd4bd10-25e6-406c-8337-1d5be2b8785b",
   "metadata": {},
   "outputs": [],
   "source": [
    "###################################################\n",
    "# Rating Products\n",
    "###################################################\n",
    "# - Average\n",
    "# - Time-Based Weighted Average\n",
    "# - User-Based Weighted Average\n",
    "# - Weighted Rating"
   ]
  },
  {
   "cell_type": "markdown",
   "id": "fc83dae1-88ee-4421-a5be-5ca5167760ca",
   "metadata": {},
   "source": [
    "### MiniApp: User and Time Weighted Course Score Calculation"
   ]
  },
  {
   "cell_type": "code",
   "execution_count": null,
   "id": "6552a516-7406-4378-a10c-b24511272fc5",
   "metadata": {},
   "outputs": [],
   "source": [
    "# COURSE-XXX\n",
    "# Score: 4.8 (4.764925)\n",
    "# Total Score: 4611\n",
    "# Score Percentage: 75, 20, 4, 1, <1\n",
    "# Approximate Numerical Equivalents: 3458, 922, 184, 46, 6"
   ]
  },
  {
   "cell_type": "code",
   "execution_count": 2,
   "id": "bda415cd-a37e-4961-9183-b24f79f51c22",
   "metadata": {},
   "outputs": [],
   "source": [
    "import pandas as pd\n",
    "import math\n",
    "import scipy.stats as st\n",
    "from sklearn.preprocessing import MinMaxScaler\n",
    "\n",
    "pd.set_option('display.max_columns', None)\n",
    "pd.set_option('display.max_rows', None)\n",
    "pd.set_option('display.width', 500)\n",
    "pd.set_option('display.expand_frame_repr', False)\n",
    "pd.set_option('display.float_format', lambda x: '%.5f' % x)"
   ]
  },
  {
   "cell_type": "code",
   "execution_count": null,
   "id": "c2f46d2a-8803-4f8d-87a5-b3885b9ed9a2",
   "metadata": {},
   "outputs": [],
   "source": [
    "df = pd.read_csv(\"./datasets/course_reviews.csv\")\n",
    "df.head()\n",
    "df.shape"
   ]
  },
  {
   "cell_type": "code",
   "execution_count": null,
   "id": "f8e8d258-06d0-4162-85a6-13f64ea43282",
   "metadata": {},
   "outputs": [],
   "source": [
    "# rating distribution\n",
    "df[\"Rating\"].value_counts()"
   ]
  },
  {
   "cell_type": "code",
   "execution_count": null,
   "id": "187ca754-8a6a-4154-a524-de9a839cdb14",
   "metadata": {},
   "outputs": [],
   "source": [
    "df[\"Questions Asked\"].value_counts()"
   ]
  },
  {
   "cell_type": "code",
   "execution_count": null,
   "id": "b15cc9ca-b3f9-4701-98cd-8182b407abb7",
   "metadata": {},
   "outputs": [],
   "source": [
    "df.groupby(\"Questions Asked\").agg({\"Questions Asked\": \"count\",\n",
    "                                   \"Rating\": \"mean\"})"
   ]
  },
  {
   "cell_type": "code",
   "execution_count": null,
   "id": "cd8f0dbb-e38a-40ea-b350-1bf8ccaf21dd",
   "metadata": {},
   "outputs": [],
   "source": [
    "df.head()"
   ]
  },
  {
   "cell_type": "code",
   "execution_count": null,
   "id": "e027afb6-132d-4cdd-ac23-6932b182b09e",
   "metadata": {},
   "outputs": [],
   "source": [
    "# Average\n",
    "####################\n",
    "# Mean Rating Score\n",
    "df[\"Rating\"].mean()"
   ]
  },
  {
   "cell_type": "code",
   "execution_count": null,
   "id": "b865b547-44e8-45d9-a633-4832ecdfdea4",
   "metadata": {},
   "outputs": [],
   "source": [
    "# Time-Based Weighted Average\n",
    "####################\n",
    "df.info() "
   ]
  },
  {
   "cell_type": "code",
   "execution_count": null,
   "id": "7a0d0767-5f5e-4288-811a-76ac28f3d39a",
   "metadata": {},
   "outputs": [],
   "source": [
    "df[\"Timestamp\"] = pd.to_datetime(df[\"Timestamp\"])\n",
    "current_date = pd.to_datetime('2021-02-10 0:0:0')\n",
    "\n",
    "# How many days have passed since the rating was given?\n",
    "df[\"days\"] = (current_date - df[\"Timestamp\"]).dt.days"
   ]
  },
  {
   "cell_type": "code",
   "execution_count": null,
   "id": "002bae68-8f8a-44c7-8c9a-b97cddf2eded",
   "metadata": {},
   "outputs": [],
   "source": [
    "df.loc[df[\"days\"] <= 30, \"Rating\"].mean()"
   ]
  },
  {
   "cell_type": "code",
   "execution_count": null,
   "id": "495c3282-22d0-4c5b-b4ea-3992dcb35032",
   "metadata": {},
   "outputs": [],
   "source": [
    "df.loc[(df[\"days\"] > 30) & (df[\"days\"] <= 90), \"Rating\"].mean()"
   ]
  },
  {
   "cell_type": "code",
   "execution_count": null,
   "id": "c2688393-117f-4edd-bf2a-4146d478f558",
   "metadata": {},
   "outputs": [],
   "source": [
    "df.loc[(df[\"days\"] > 90) & (df[\"days\"] <= 180), \"Rating\"].mean()"
   ]
  },
  {
   "cell_type": "code",
   "execution_count": null,
   "id": "a45a1664-3d26-40c2-bd4b-6f82847370b7",
   "metadata": {},
   "outputs": [],
   "source": [
    "df.loc[(df[\"days\"] > 180), \"Rating\"].mean()"
   ]
  },
  {
   "cell_type": "code",
   "execution_count": null,
   "id": "3c6b0126-d0fb-4911-b268-4cbf64978828",
   "metadata": {},
   "outputs": [],
   "source": [
    "# I also took into account weight values according to time intervals(Attention, the sum of the weights must be 100!)\n",
    "def time_based_weighted_average(dataframe, w1=28, w2=26, w3=24, w4=22):\n",
    "    return dataframe.loc[df[\"days\"] <= 30, \"Rating\"].mean() * w1 / 100 + \\\n",
    "           dataframe.loc[(dataframe[\"days\"] > 30) & (dataframe[\"days\"] <= 90), \"Rating\"].mean() * w2 / 100 + \\\n",
    "           dataframe.loc[(dataframe[\"days\"] > 90) & (dataframe[\"days\"] <= 180), \"Rating\"].mean() * w3 / 100 + \\\n",
    "           dataframe.loc[(dataframe[\"days\"] > 180), \"Rating\"].mean() * w4 / 100"
   ]
  },
  {
   "cell_type": "code",
   "execution_count": null,
   "id": "2dfaf26f-006d-476b-9f3d-878c9dbbd586",
   "metadata": {},
   "outputs": [],
   "source": [
    "time_based_weighted_average(df)"
   ]
  },
  {
   "cell_type": "code",
   "execution_count": null,
   "id": "3c4c6407-1766-4235-a53c-b9c2c5998163",
   "metadata": {},
   "outputs": [],
   "source": [
    "time_based_weighted_average(df, 30, 26, 22, 22)"
   ]
  },
  {
   "cell_type": "code",
   "execution_count": null,
   "id": "0e1cc988-91fd-46c1-8ae3-2d8ab86f1457",
   "metadata": {},
   "outputs": [],
   "source": [
    "# User-Based/User-Quality(By User Progress Weighted Average\n",
    "####################\n",
    "df.head()"
   ]
  },
  {
   "cell_type": "code",
   "execution_count": null,
   "id": "d62e306e-40f0-451a-862f-99bd5e5bc798",
   "metadata": {},
   "outputs": [],
   "source": [
    "df.groupby(\"Progress\").agg({\"Rating\": \"mean\"})"
   ]
  },
  {
   "cell_type": "code",
   "execution_count": null,
   "id": "83c7d3be-55dd-4972-894f-3fbddaab8020",
   "metadata": {},
   "outputs": [],
   "source": [
    "def user_based_weighted_average(dataframe, w1=22, w2=24, w3=26, w4=28):\n",
    "    return dataframe.loc[dataframe[\"Progress\"] <= 10, \"Rating\"].mean() * w1 / 100 + \\\n",
    "           dataframe.loc[(dataframe[\"Progress\"] > 10) & (dataframe[\"Progress\"] <= 45), \"Rating\"].mean() * w2 / 100 + \\\n",
    "           dataframe.loc[(dataframe[\"Progress\"] > 45) & (dataframe[\"Progress\"] <= 75), \"Rating\"].mean() * w3 / 100 + \\\n",
    "           dataframe.loc[(dataframe[\"Progress\"] > 75), \"Rating\"].mean() * w4 / 100"
   ]
  },
  {
   "cell_type": "code",
   "execution_count": null,
   "id": "ac0bf80f-59cb-43b2-90e4-c93b18e70dac",
   "metadata": {},
   "outputs": [],
   "source": [
    "user_based_weighted_average(df, 20, 24, 26, 30)"
   ]
  },
  {
   "cell_type": "code",
   "execution_count": null,
   "id": "1eb4e406-2028-4275-83a7-6cb8a5d197ae",
   "metadata": {},
   "outputs": [],
   "source": [
    "# Weighted Rating\n",
    "####################\n",
    "\n",
    "def course_weighted_rating(dataframe, time_w=50, user_w=50):\n",
    "    return time_based_weighted_average(dataframe) * time_w/100 + user_based_weighted_average(dataframe)*user_w/100"
   ]
  },
  {
   "cell_type": "code",
   "execution_count": null,
   "id": "bec15713-4c79-45a5-9ba9-1ac7d959e00e",
   "metadata": {},
   "outputs": [],
   "source": [
    "course_weighted_rating(df)"
   ]
  },
  {
   "cell_type": "code",
   "execution_count": null,
   "id": "93b0f1db-82f5-40fa-a1fa-bf419a0ca0e7",
   "metadata": {},
   "outputs": [],
   "source": [
    "course_weighted_rating(df, time_w=40, user_w=60)"
   ]
  },
  {
   "cell_type": "markdown",
   "id": "4bf966e7-7cf6-490a-83fd-a54726e00ade",
   "metadata": {},
   "source": [
    "# Product SORTING Analytics"
   ]
  },
  {
   "cell_type": "markdown",
   "id": "9e8eeabb-eb82-4d6f-81e4-d9413bdf2a4b",
   "metadata": {},
   "source": [
    "#### In the keyword search made from the Search section on the website,There is a ranking."
   ]
  },
  {
   "cell_type": "markdown",
   "id": "28026e0e-c707-4578-8288-aadb7b312023",
   "metadata": {},
   "source": [
    "### MiniApp: Course Sorting"
   ]
  },
  {
   "cell_type": "code",
   "execution_count": null,
   "id": "0b909dbe-ee86-4e87-9704-8cfb8fa6a33a",
   "metadata": {},
   "outputs": [],
   "source": [
    "import pandas as pd\n",
    "import math\n",
    "import scipy.stats as st\n",
    "from sklearn.preprocessing import MinMaxScaler\n",
    "\n",
    "pd.set_option('display.max_columns', None)\n",
    "pd.set_option('display.max_rows', None)\n",
    "pd.set_option('display.expand_frame_repr', False)\n",
    "pd.set_option('display.float_format', lambda x: '%.5f' % x)"
   ]
  },
  {
   "cell_type": "code",
   "execution_count": null,
   "id": "611f4035-9d06-4fea-a87c-0101d252490f",
   "metadata": {},
   "outputs": [],
   "source": [
    "df = pd.read_csv(\".datasets/product_sorting.csv\")\n",
    "print(df.shape)\n",
    "df.head(10)"
   ]
  },
  {
   "cell_type": "code",
   "execution_count": null,
   "id": "a2596d5a-12c1-4bbc-bbcc-0f0dd0483c3d",
   "metadata": {},
   "outputs": [],
   "source": [
    "# Sorting by Rating\n",
    "####################\n",
    "df.sort_values(\"rating\", ascending=False).head(20)"
   ]
  },
  {
   "cell_type": "code",
   "execution_count": null,
   "id": "ebee36a5-7dfb-4b3c-b408-67d593cfba72",
   "metadata": {},
   "outputs": [],
   "source": [
    "# Sorting by Comment Count or Purchase Count\n",
    "####################\n",
    "df.sort_values(\"purchase_count\", ascending=False).head(20)\n",
    "df.sort_values(\"commment_count\", ascending=False).head(20)"
   ]
  },
  {
   "cell_type": "code",
   "execution_count": null,
   "id": "3d89c614-5e54-48a5-a78c-49a290ccddb2",
   "metadata": {},
   "outputs": [],
   "source": [
    "# Sorting by Rating, Comment and Purchase (Sorting by RCP) => This is more convenient to social proof!!\n",
    "####################\n",
    "df[\"purchase_count_scaled\"] = MinMaxScaler(feature_range=(1, 5)).fit(df[[\"purchase_count\"]]).transform(df[[\"purchase_count\"]])\n",
    "df.describe().T"
   ]
  },
  {
   "cell_type": "code",
   "execution_count": null,
   "id": "361fd2bd-4180-4400-b37f-decfef3c9069",
   "metadata": {},
   "outputs": [],
   "source": [
    "df[\"comment_count_scaled\"] = MinMaxScaler(feature_range=(1, 5)).fit(df[[\"commment_count\"]]).transform(df[[\"commment_count\"]])"
   ]
  },
  {
   "cell_type": "code",
   "execution_count": null,
   "id": "23b28741-9803-498e-9cf4-7c0adc7cd8ab",
   "metadata": {},
   "outputs": [],
   "source": [
    "# General scoring\n",
    "def weighted_sorting_score(dataframe, w1=32, w2=26, w3=42):\n",
    "    return (dataframe[\"comment_count_scaled\"] * w1 / 100 +\n",
    "            dataframe[\"purchase_count_scaled\"] * w2 / 100 +\n",
    "            dataframe[\"rating\"] * w3 / 100)"
   ]
  },
  {
   "cell_type": "code",
   "execution_count": null,
   "id": "d4bb987e-0266-4e90-a16e-b22cabbea757",
   "metadata": {},
   "outputs": [],
   "source": [
    "df[\"weighted_sorting_score\"] = weighted_sorting_score(df)"
   ]
  },
  {
   "cell_type": "code",
   "execution_count": null,
   "id": "12f772f2-3753-4a6c-89e6-0e440cec6d36",
   "metadata": {},
   "outputs": [],
   "source": [
    "df.sort_values(\"weighted_sorting_score\", ascending=False).head(20)"
   ]
  },
  {
   "cell_type": "code",
   "execution_count": null,
   "id": "e68357f1-56b9-4fcf-953f-de5a01970a09",
   "metadata": {},
   "outputs": [],
   "source": [
    "df[df[\"course_name\"].str.contains(\"Data Science\")].sort_values(\"weighted_sorting_score\", ascending=False).head(20)"
   ]
  },
  {
   "cell_type": "markdown",
   "id": "b5fa433b-d7c7-47f7-b254-452a58290153",
   "metadata": {},
   "source": [
    "#### Bayesian Average Rating Score - Sorting by potential using a statistical model"
   ]
  },
  {
   "cell_type": "code",
   "execution_count": null,
   "id": "53d3ff3d-1f85-487a-b579-b370dcdc5071",
   "metadata": {},
   "outputs": [],
   "source": [
    "# Other nomenclatures mentioned in the literature:\n",
    "# Sorting Products with 5 Star Rated\n",
    "# Sorting Products According to Distribution of 5 Star Rating"
   ]
  },
  {
   "cell_type": "code",
   "execution_count": null,
   "id": "7216091a-abe5-4bd7-b502-c912bd4d6dab",
   "metadata": {},
   "outputs": [],
   "source": [
    "# The function below gives me an average rating value using the distribution information of the points (1_point, ....). \n",
    "# I'll either sort accordingly or take a better approach to develop a hybrid method.\n",
    "\n",
    "# n =>  x[[\"1_point\", \"2_point\",\"3_point\", \"4_point\", \"5_point\"]]\n",
    "def bayesian_average_rating(n, confidence=0.95):\n",
    "    if sum(n) == 0:\n",
    "        return 0\n",
    "    K = len(n)\n",
    "    z = st.norm.ppf(1 - (1 - confidence) / 2)\n",
    "    N = sum(n)\n",
    "    first_part = 0.0\n",
    "    second_part = 0.0\n",
    "    for k, n_k in enumerate(n):\n",
    "        first_part += (k + 1) * (n[k] + 1) / (N + K)\n",
    "        second_part += (k + 1) * (k + 1) * (n[k] + 1) / (N + K)\n",
    "    score = first_part - z * math.sqrt((second_part - first_part * first_part) / (N + K + 1))\n",
    "    return score"
   ]
  },
  {
   "cell_type": "code",
   "execution_count": null,
   "id": "840adc30-0588-4cf2-8901-75ea796bfc71",
   "metadata": {},
   "outputs": [],
   "source": [
    "df.head()"
   ]
  },
  {
   "cell_type": "code",
   "execution_count": null,
   "id": "bc49000a-e565-4796-9155-fdbac2b70680",
   "metadata": {},
   "outputs": [],
   "source": [
    "# Since this place focuses only on point distribution, there is a situation of overriding others.\n",
    "# That's why hybrid is important because I also take the weights into account.\n",
    "df[\"bar_score\"] = df.apply(lambda x: bayesian_average_rating(x[[\"1_point\",\n",
    "                                                                \"2_point\",\n",
    "                                                                \"3_point\",\n",
    "                                                                \"4_point\",\n",
    "                                                                \"5_point\"]]), axis=1)"
   ]
  },
  {
   "cell_type": "code",
   "execution_count": null,
   "id": "e6b27019-0f98-4ceb-9805-edebe415e439",
   "metadata": {},
   "outputs": [],
   "source": [
    "df.sort_values(\"weighted_sorting_score\", ascending=False).head(20)"
   ]
  },
  {
   "cell_type": "code",
   "execution_count": null,
   "id": "8e3cc3b4-7fa4-4a11-822d-70d409d53451",
   "metadata": {},
   "outputs": [],
   "source": [
    "df.sort_values(\"bar_score\", ascending=False).head(20)"
   ]
  },
  {
   "cell_type": "code",
   "execution_count": null,
   "id": "f7615b38-9cb3-40d3-8d38-3cab1b83274c",
   "metadata": {},
   "outputs": [],
   "source": [
    "# index 5th ve 1st fetched\n",
    "df[df[\"course_name\"].index.isin([5, 1])].sort_values(\"bar_score\", ascending=False)"
   ]
  },
  {
   "cell_type": "code",
   "execution_count": null,
   "id": "ae1bc67a-0f36-44a2-a2b7-f4add7c00822",
   "metadata": {},
   "outputs": [],
   "source": [
    "# Hybrid Sorting: BAR Score + Other Factors\n",
    "####################\n",
    "def hybrid_sorting_score(dataframe, bar_w=60, wss_w=40):\n",
    "    bar_score = dataframe.apply(lambda x: bayesian_average_rating(x[[\"1_point\",\n",
    "                                                                     \"2_point\",\n",
    "                                                                     \"3_point\",\n",
    "                                                                     \"4_point\",\n",
    "                                                                     \"5_point\"]]), axis=1)\n",
    "    wss_score = weighted_sorting_score(dataframe)\n",
    "    \n",
    "    return bar_score*bar_w/100 + wss_score*wss_w/100"
   ]
  },
  {
   "cell_type": "code",
   "execution_count": null,
   "id": "245e452c-8174-4d64-9b6c-502a75639d69",
   "metadata": {},
   "outputs": [],
   "source": [
    "df[\"hybrid_sorting_score\"] = hybrid_sorting_score(df)"
   ]
  },
  {
   "cell_type": "code",
   "execution_count": null,
   "id": "b82f6c40-0c79-4178-910e-b520d401d2cc",
   "metadata": {},
   "outputs": [],
   "source": [
    "df.sort_values(\"hybrid_sorting_score\", ascending=False).head(20)"
   ]
  },
  {
   "cell_type": "code",
   "execution_count": null,
   "id": "fb229720-305e-4304-888a-41f0922c10ff",
   "metadata": {},
   "outputs": [],
   "source": [
    "df[df[\"course_name\"].str.contains(\"Data Science\")].sort_values(\"hybrid_sorting_score\", ascending=False).head(20)"
   ]
  },
  {
   "cell_type": "markdown",
   "id": "f40e6579-c21a-4a2e-97b6-c3a4f5da2b4e",
   "metadata": {},
   "source": [
    "#### MiniApp: IMDB Movie Scoring & Sorting"
   ]
  },
  {
   "cell_type": "code",
   "execution_count": 3,
   "id": "f2208376-b3d0-49a8-ad49-61cbbef6fb2e",
   "metadata": {},
   "outputs": [],
   "source": [
    "import pandas as pd\n",
    "import math\n",
    "import scipy.stats as st\n",
    "pd.set_option('display.max_columns', None)\n",
    "pd.set_option('display.expand_frame_repr', False)\n",
    "pd.set_option('display.float_format', lambda x: '%.5f' % x)"
   ]
  },
  {
   "cell_type": "code",
   "execution_count": 4,
   "id": "9dadf691-9b57-454f-a133-d0e37e02b634",
   "metadata": {},
   "outputs": [],
   "source": [
    "df = pd.read_csv(\"datasets/movies_metadata.csv\",\n",
    "                 low_memory=False)"
   ]
  },
  {
   "cell_type": "code",
   "execution_count": 5,
   "id": "8ea785e5-9837-4c3f-a3ba-7388e0333519",
   "metadata": {},
   "outputs": [
    {
     "data": {
      "text/html": [
       "<div>\n",
       "<style scoped>\n",
       "    .dataframe tbody tr th:only-of-type {\n",
       "        vertical-align: middle;\n",
       "    }\n",
       "\n",
       "    .dataframe tbody tr th {\n",
       "        vertical-align: top;\n",
       "    }\n",
       "\n",
       "    .dataframe thead th {\n",
       "        text-align: right;\n",
       "    }\n",
       "</style>\n",
       "<table border=\"1\" class=\"dataframe\">\n",
       "  <thead>\n",
       "    <tr style=\"text-align: right;\">\n",
       "      <th></th>\n",
       "      <th>Unnamed: 0</th>\n",
       "      <th>title</th>\n",
       "      <th>overview</th>\n",
       "      <th>original_language</th>\n",
       "      <th>vote_count</th>\n",
       "      <th>vote_average</th>\n",
       "    </tr>\n",
       "  </thead>\n",
       "  <tbody>\n",
       "    <tr>\n",
       "      <th>0</th>\n",
       "      <td>0</td>\n",
       "      <td>Ad Astra</td>\n",
       "      <td>The near future, a time when both hope and har...</td>\n",
       "      <td>en</td>\n",
       "      <td>2853</td>\n",
       "      <td>5.90000</td>\n",
       "    </tr>\n",
       "    <tr>\n",
       "      <th>1</th>\n",
       "      <td>1</td>\n",
       "      <td>Bloodshot</td>\n",
       "      <td>After he and his wife are murdered, marine Ray...</td>\n",
       "      <td>en</td>\n",
       "      <td>1349</td>\n",
       "      <td>7.20000</td>\n",
       "    </tr>\n",
       "    <tr>\n",
       "      <th>2</th>\n",
       "      <td>2</td>\n",
       "      <td>Bad Boys for Life</td>\n",
       "      <td>Marcus and Mike are forced to confront new thr...</td>\n",
       "      <td>en</td>\n",
       "      <td>2530</td>\n",
       "      <td>7.10000</td>\n",
       "    </tr>\n",
       "    <tr>\n",
       "      <th>3</th>\n",
       "      <td>3</td>\n",
       "      <td>Ant-Man</td>\n",
       "      <td>Armed with the astonishing ability to shrink i...</td>\n",
       "      <td>en</td>\n",
       "      <td>13611</td>\n",
       "      <td>7.10000</td>\n",
       "    </tr>\n",
       "    <tr>\n",
       "      <th>4</th>\n",
       "      <td>4</td>\n",
       "      <td>Percy Jackson: Sea of Monsters</td>\n",
       "      <td>In their quest to confront the ultimate evil, ...</td>\n",
       "      <td>en</td>\n",
       "      <td>3542</td>\n",
       "      <td>5.90000</td>\n",
       "    </tr>\n",
       "  </tbody>\n",
       "</table>\n",
       "</div>"
      ],
      "text/plain": [
       "   Unnamed: 0                           title                                           overview original_language  vote_count  vote_average\n",
       "0           0                        Ad Astra  The near future, a time when both hope and har...                en        2853       5.90000\n",
       "1           1                       Bloodshot  After he and his wife are murdered, marine Ray...                en        1349       7.20000\n",
       "2           2               Bad Boys for Life  Marcus and Mike are forced to confront new thr...                en        2530       7.10000\n",
       "3           3                         Ant-Man  Armed with the astonishing ability to shrink i...                en       13611       7.10000\n",
       "4           4  Percy Jackson: Sea of Monsters  In their quest to confront the ultimate evil, ...                en        3542       5.90000"
      ]
     },
     "execution_count": 5,
     "metadata": {},
     "output_type": "execute_result"
    }
   ],
   "source": [
    "df.head()"
   ]
  },
  {
   "cell_type": "code",
   "execution_count": 6,
   "id": "e390d3ed-aa87-4f29-a69a-631628887445",
   "metadata": {},
   "outputs": [],
   "source": [
    "df = df[[\"title\", \"vote_average\", \"vote_count\"]]"
   ]
  },
  {
   "cell_type": "code",
   "execution_count": 7,
   "id": "f9c83840-9fe2-46fe-8d96-be8346fb0e39",
   "metadata": {},
   "outputs": [
    {
     "data": {
      "text/html": [
       "<div>\n",
       "<style scoped>\n",
       "    .dataframe tbody tr th:only-of-type {\n",
       "        vertical-align: middle;\n",
       "    }\n",
       "\n",
       "    .dataframe tbody tr th {\n",
       "        vertical-align: top;\n",
       "    }\n",
       "\n",
       "    .dataframe thead th {\n",
       "        text-align: right;\n",
       "    }\n",
       "</style>\n",
       "<table border=\"1\" class=\"dataframe\">\n",
       "  <thead>\n",
       "    <tr style=\"text-align: right;\">\n",
       "      <th></th>\n",
       "      <th>title</th>\n",
       "      <th>vote_average</th>\n",
       "      <th>vote_count</th>\n",
       "    </tr>\n",
       "  </thead>\n",
       "  <tbody>\n",
       "    <tr>\n",
       "      <th>0</th>\n",
       "      <td>Ad Astra</td>\n",
       "      <td>5.90000</td>\n",
       "      <td>2853</td>\n",
       "    </tr>\n",
       "    <tr>\n",
       "      <th>1</th>\n",
       "      <td>Bloodshot</td>\n",
       "      <td>7.20000</td>\n",
       "      <td>1349</td>\n",
       "    </tr>\n",
       "    <tr>\n",
       "      <th>2</th>\n",
       "      <td>Bad Boys for Life</td>\n",
       "      <td>7.10000</td>\n",
       "      <td>2530</td>\n",
       "    </tr>\n",
       "    <tr>\n",
       "      <th>3</th>\n",
       "      <td>Ant-Man</td>\n",
       "      <td>7.10000</td>\n",
       "      <td>13611</td>\n",
       "    </tr>\n",
       "    <tr>\n",
       "      <th>4</th>\n",
       "      <td>Percy Jackson: Sea of Monsters</td>\n",
       "      <td>5.90000</td>\n",
       "      <td>3542</td>\n",
       "    </tr>\n",
       "    <tr>\n",
       "      <th>5</th>\n",
       "      <td>Birds of Prey (and the Fantabulous Emancipatio...</td>\n",
       "      <td>7.10000</td>\n",
       "      <td>2639</td>\n",
       "    </tr>\n",
       "    <tr>\n",
       "      <th>6</th>\n",
       "      <td>Live Free or Die Hard</td>\n",
       "      <td>6.50000</td>\n",
       "      <td>3714</td>\n",
       "    </tr>\n",
       "    <tr>\n",
       "      <th>7</th>\n",
       "      <td>Cold Blood</td>\n",
       "      <td>5.10000</td>\n",
       "      <td>119</td>\n",
       "    </tr>\n",
       "    <tr>\n",
       "      <th>8</th>\n",
       "      <td>Underwater</td>\n",
       "      <td>6.50000</td>\n",
       "      <td>584</td>\n",
       "    </tr>\n",
       "    <tr>\n",
       "      <th>9</th>\n",
       "      <td>The Platform</td>\n",
       "      <td>7.20000</td>\n",
       "      <td>1924</td>\n",
       "    </tr>\n",
       "  </tbody>\n",
       "</table>\n",
       "</div>"
      ],
      "text/plain": [
       "                                               title  vote_average  vote_count\n",
       "0                                           Ad Astra       5.90000        2853\n",
       "1                                          Bloodshot       7.20000        1349\n",
       "2                                  Bad Boys for Life       7.10000        2530\n",
       "3                                            Ant-Man       7.10000       13611\n",
       "4                     Percy Jackson: Sea of Monsters       5.90000        3542\n",
       "5  Birds of Prey (and the Fantabulous Emancipatio...       7.10000        2639\n",
       "6                              Live Free or Die Hard       6.50000        3714\n",
       "7                                         Cold Blood       5.10000         119\n",
       "8                                         Underwater       6.50000         584\n",
       "9                                       The Platform       7.20000        1924"
      ]
     },
     "execution_count": 7,
     "metadata": {},
     "output_type": "execute_result"
    }
   ],
   "source": [
    "df.head(10)"
   ]
  },
  {
   "cell_type": "code",
   "execution_count": 8,
   "id": "27f2282f-6c7d-4e2f-87df-e897d755aaf6",
   "metadata": {},
   "outputs": [
    {
     "data": {
      "text/plain": [
       "(10000, 3)"
      ]
     },
     "execution_count": 8,
     "metadata": {},
     "output_type": "execute_result"
    }
   ],
   "source": [
    "df.shape"
   ]
  },
  {
   "cell_type": "code",
   "execution_count": 9,
   "id": "fb4b0c1d-a0ec-4eac-ba4e-9cb2d3d9a671",
   "metadata": {},
   "outputs": [
    {
     "data": {
      "text/html": [
       "<div>\n",
       "<style scoped>\n",
       "    .dataframe tbody tr th:only-of-type {\n",
       "        vertical-align: middle;\n",
       "    }\n",
       "\n",
       "    .dataframe tbody tr th {\n",
       "        vertical-align: top;\n",
       "    }\n",
       "\n",
       "    .dataframe thead th {\n",
       "        text-align: right;\n",
       "    }\n",
       "</style>\n",
       "<table border=\"1\" class=\"dataframe\">\n",
       "  <thead>\n",
       "    <tr style=\"text-align: right;\">\n",
       "      <th></th>\n",
       "      <th>title</th>\n",
       "      <th>vote_average</th>\n",
       "      <th>vote_count</th>\n",
       "    </tr>\n",
       "  </thead>\n",
       "  <tbody>\n",
       "    <tr>\n",
       "      <th>1582</th>\n",
       "      <td>The Water Monster</td>\n",
       "      <td>10.00000</td>\n",
       "      <td>1</td>\n",
       "    </tr>\n",
       "    <tr>\n",
       "      <th>401</th>\n",
       "      <td>Mamu (and a Mother Too)</td>\n",
       "      <td>10.00000</td>\n",
       "      <td>1</td>\n",
       "    </tr>\n",
       "    <tr>\n",
       "      <th>664</th>\n",
       "      <td>Four Kids and It</td>\n",
       "      <td>10.00000</td>\n",
       "      <td>1</td>\n",
       "    </tr>\n",
       "    <tr>\n",
       "      <th>9674</th>\n",
       "      <td>Gully</td>\n",
       "      <td>10.00000</td>\n",
       "      <td>1</td>\n",
       "    </tr>\n",
       "    <tr>\n",
       "      <th>3387</th>\n",
       "      <td>Prostitution</td>\n",
       "      <td>10.00000</td>\n",
       "      <td>1</td>\n",
       "    </tr>\n",
       "    <tr>\n",
       "      <th>6278</th>\n",
       "      <td>You're Bacon Me Crazy</td>\n",
       "      <td>10.00000</td>\n",
       "      <td>1</td>\n",
       "    </tr>\n",
       "    <tr>\n",
       "      <th>6604</th>\n",
       "      <td>Erotica:  Moonlight</td>\n",
       "      <td>9.80000</td>\n",
       "      <td>3</td>\n",
       "    </tr>\n",
       "    <tr>\n",
       "      <th>5125</th>\n",
       "      <td>Bulletproof 2</td>\n",
       "      <td>9.50000</td>\n",
       "      <td>2</td>\n",
       "    </tr>\n",
       "    <tr>\n",
       "      <th>9102</th>\n",
       "      <td>Bad Education</td>\n",
       "      <td>9.50000</td>\n",
       "      <td>4</td>\n",
       "    </tr>\n",
       "    <tr>\n",
       "      <th>8808</th>\n",
       "      <td>Kinky Boots: The Musical</td>\n",
       "      <td>9.20000</td>\n",
       "      <td>22</td>\n",
       "    </tr>\n",
       "    <tr>\n",
       "      <th>7485</th>\n",
       "      <td>And What Is He Like?</td>\n",
       "      <td>9.00000</td>\n",
       "      <td>1</td>\n",
       "    </tr>\n",
       "    <tr>\n",
       "      <th>100</th>\n",
       "      <td>Sub Rosa</td>\n",
       "      <td>9.00000</td>\n",
       "      <td>2</td>\n",
       "    </tr>\n",
       "    <tr>\n",
       "      <th>6935</th>\n",
       "      <td>Ordinary Love</td>\n",
       "      <td>9.00000</td>\n",
       "      <td>5</td>\n",
       "    </tr>\n",
       "    <tr>\n",
       "      <th>8517</th>\n",
       "      <td>Tisay</td>\n",
       "      <td>9.00000</td>\n",
       "      <td>1</td>\n",
       "    </tr>\n",
       "    <tr>\n",
       "      <th>4474</th>\n",
       "      <td>The Seven Swords</td>\n",
       "      <td>8.80000</td>\n",
       "      <td>2</td>\n",
       "    </tr>\n",
       "    <tr>\n",
       "      <th>7260</th>\n",
       "      <td>Lemonade</td>\n",
       "      <td>8.80000</td>\n",
       "      <td>98</td>\n",
       "    </tr>\n",
       "    <tr>\n",
       "      <th>4959</th>\n",
       "      <td>Mother's Friend</td>\n",
       "      <td>8.80000</td>\n",
       "      <td>2</td>\n",
       "    </tr>\n",
       "    <tr>\n",
       "      <th>559</th>\n",
       "      <td>Steven Universe: The Movie</td>\n",
       "      <td>8.80000</td>\n",
       "      <td>144</td>\n",
       "    </tr>\n",
       "    <tr>\n",
       "      <th>357</th>\n",
       "      <td>Dilwale Dulhania Le Jayenge</td>\n",
       "      <td>8.80000</td>\n",
       "      <td>2230</td>\n",
       "    </tr>\n",
       "    <tr>\n",
       "      <th>8098</th>\n",
       "      <td>Live at Wembley Stadium</td>\n",
       "      <td>8.70000</td>\n",
       "      <td>51</td>\n",
       "    </tr>\n",
       "  </tbody>\n",
       "</table>\n",
       "</div>"
      ],
      "text/plain": [
       "                            title  vote_average  vote_count\n",
       "1582            The Water Monster      10.00000           1\n",
       "401       Mamu (and a Mother Too)      10.00000           1\n",
       "664              Four Kids and It      10.00000           1\n",
       "9674                        Gully      10.00000           1\n",
       "3387                 Prostitution      10.00000           1\n",
       "6278        You're Bacon Me Crazy      10.00000           1\n",
       "6604          Erotica:  Moonlight       9.80000           3\n",
       "5125                Bulletproof 2       9.50000           2\n",
       "9102                Bad Education       9.50000           4\n",
       "8808     Kinky Boots: The Musical       9.20000          22\n",
       "7485         And What Is He Like?       9.00000           1\n",
       "100                      Sub Rosa       9.00000           2\n",
       "6935                Ordinary Love       9.00000           5\n",
       "8517                        Tisay       9.00000           1\n",
       "4474             The Seven Swords       8.80000           2\n",
       "7260                     Lemonade       8.80000          98\n",
       "4959              Mother's Friend       8.80000           2\n",
       "559    Steven Universe: The Movie       8.80000         144\n",
       "357   Dilwale Dulhania Le Jayenge       8.80000        2230\n",
       "8098      Live at Wembley Stadium       8.70000          51"
      ]
     },
     "execution_count": 9,
     "metadata": {},
     "output_type": "execute_result"
    }
   ],
   "source": [
    "df.sort_values(\"vote_average\", ascending=False).head(20)"
   ]
  },
  {
   "cell_type": "code",
   "execution_count": 10,
   "id": "67a652f4-393e-47ce-8d3a-f053121a6eb8",
   "metadata": {},
   "outputs": [
    {
     "data": {
      "text/plain": [
       "count   10000.00000\n",
       "mean     1020.82510\n",
       "std      1992.30501\n",
       "min         0.00000\n",
       "10%        67.00000\n",
       "25%       143.00000\n",
       "50%       332.00000\n",
       "70%       744.00000\n",
       "80%      1219.20000\n",
       "90%      2555.00000\n",
       "95%      4462.15000\n",
       "99%     10914.41000\n",
       "max     25148.00000\n",
       "Name: vote_count, dtype: float64"
      ]
     },
     "execution_count": 10,
     "metadata": {},
     "output_type": "execute_result"
    }
   ],
   "source": [
    "df[\"vote_count\"].describe([0.10, 0.25, 0.50, 0.70, 0.80, 0.90, 0.95, 0.99]).T"
   ]
  },
  {
   "cell_type": "code",
   "execution_count": 11,
   "id": "406f6341-2d3f-457f-b23e-fce26f90e398",
   "metadata": {},
   "outputs": [
    {
     "data": {
      "text/html": [
       "<div>\n",
       "<style scoped>\n",
       "    .dataframe tbody tr th:only-of-type {\n",
       "        vertical-align: middle;\n",
       "    }\n",
       "\n",
       "    .dataframe tbody tr th {\n",
       "        vertical-align: top;\n",
       "    }\n",
       "\n",
       "    .dataframe thead th {\n",
       "        text-align: right;\n",
       "    }\n",
       "</style>\n",
       "<table border=\"1\" class=\"dataframe\">\n",
       "  <thead>\n",
       "    <tr style=\"text-align: right;\">\n",
       "      <th></th>\n",
       "      <th>title</th>\n",
       "      <th>vote_average</th>\n",
       "      <th>vote_count</th>\n",
       "    </tr>\n",
       "  </thead>\n",
       "  <tbody>\n",
       "    <tr>\n",
       "      <th>357</th>\n",
       "      <td>Dilwale Dulhania Le Jayenge</td>\n",
       "      <td>8.80000</td>\n",
       "      <td>2230</td>\n",
       "    </tr>\n",
       "    <tr>\n",
       "      <th>559</th>\n",
       "      <td>Steven Universe: The Movie</td>\n",
       "      <td>8.80000</td>\n",
       "      <td>144</td>\n",
       "    </tr>\n",
       "    <tr>\n",
       "      <th>96</th>\n",
       "      <td>The Shawshank Redemption</td>\n",
       "      <td>8.70000</td>\n",
       "      <td>15522</td>\n",
       "    </tr>\n",
       "    <tr>\n",
       "      <th>110</th>\n",
       "      <td>The Godfather</td>\n",
       "      <td>8.70000</td>\n",
       "      <td>11768</td>\n",
       "    </tr>\n",
       "    <tr>\n",
       "      <th>252</th>\n",
       "      <td>Schindler's List</td>\n",
       "      <td>8.60000</td>\n",
       "      <td>9366</td>\n",
       "    </tr>\n",
       "    <tr>\n",
       "      <th>772</th>\n",
       "      <td>The Green Mile</td>\n",
       "      <td>8.50000</td>\n",
       "      <td>9740</td>\n",
       "    </tr>\n",
       "    <tr>\n",
       "      <th>8544</th>\n",
       "      <td>We All Loved Each Other So Much</td>\n",
       "      <td>8.50000</td>\n",
       "      <td>207</td>\n",
       "    </tr>\n",
       "    <tr>\n",
       "      <th>205</th>\n",
       "      <td>Your Name.</td>\n",
       "      <td>8.50000</td>\n",
       "      <td>5225</td>\n",
       "    </tr>\n",
       "    <tr>\n",
       "      <th>5524</th>\n",
       "      <td>One Direction: Where We Are – The Concert Film</td>\n",
       "      <td>8.50000</td>\n",
       "      <td>123</td>\n",
       "    </tr>\n",
       "    <tr>\n",
       "      <th>25</th>\n",
       "      <td>Parasite</td>\n",
       "      <td>8.50000</td>\n",
       "      <td>6046</td>\n",
       "    </tr>\n",
       "    <tr>\n",
       "      <th>216</th>\n",
       "      <td>Pulp Fiction</td>\n",
       "      <td>8.50000</td>\n",
       "      <td>18003</td>\n",
       "    </tr>\n",
       "    <tr>\n",
       "      <th>1593</th>\n",
       "      <td>My Mom is a Character 3: The Film</td>\n",
       "      <td>8.50000</td>\n",
       "      <td>218</td>\n",
       "    </tr>\n",
       "    <tr>\n",
       "      <th>152</th>\n",
       "      <td>Spirited Away</td>\n",
       "      <td>8.50000</td>\n",
       "      <td>9009</td>\n",
       "    </tr>\n",
       "    <tr>\n",
       "      <th>464</th>\n",
       "      <td>Life Is Beautiful</td>\n",
       "      <td>8.50000</td>\n",
       "      <td>8477</td>\n",
       "    </tr>\n",
       "    <tr>\n",
       "      <th>3892</th>\n",
       "      <td>Homecoming: A Film by Beyoncé</td>\n",
       "      <td>8.50000</td>\n",
       "      <td>201</td>\n",
       "    </tr>\n",
       "    <tr>\n",
       "      <th>233</th>\n",
       "      <td>The Godfather: Part II</td>\n",
       "      <td>8.50000</td>\n",
       "      <td>6917</td>\n",
       "    </tr>\n",
       "    <tr>\n",
       "      <th>1857</th>\n",
       "      <td>Tokyo Story</td>\n",
       "      <td>8.40000</td>\n",
       "      <td>450</td>\n",
       "    </tr>\n",
       "    <tr>\n",
       "      <th>337</th>\n",
       "      <td>Princess Mononoke</td>\n",
       "      <td>8.40000</td>\n",
       "      <td>4495</td>\n",
       "    </tr>\n",
       "    <tr>\n",
       "      <th>703</th>\n",
       "      <td>Cinema Paradiso</td>\n",
       "      <td>8.40000</td>\n",
       "      <td>2141</td>\n",
       "    </tr>\n",
       "    <tr>\n",
       "      <th>4636</th>\n",
       "      <td>Ikiru</td>\n",
       "      <td>8.40000</td>\n",
       "      <td>473</td>\n",
       "    </tr>\n",
       "  </tbody>\n",
       "</table>\n",
       "</div>"
      ],
      "text/plain": [
       "                                               title  vote_average  vote_count\n",
       "357                      Dilwale Dulhania Le Jayenge       8.80000        2230\n",
       "559                       Steven Universe: The Movie       8.80000         144\n",
       "96                          The Shawshank Redemption       8.70000       15522\n",
       "110                                    The Godfather       8.70000       11768\n",
       "252                                 Schindler's List       8.60000        9366\n",
       "772                                   The Green Mile       8.50000        9740\n",
       "8544                 We All Loved Each Other So Much       8.50000         207\n",
       "205                                       Your Name.       8.50000        5225\n",
       "5524  One Direction: Where We Are – The Concert Film       8.50000         123\n",
       "25                                          Parasite       8.50000        6046\n",
       "216                                     Pulp Fiction       8.50000       18003\n",
       "1593               My Mom is a Character 3: The Film       8.50000         218\n",
       "152                                    Spirited Away       8.50000        9009\n",
       "464                                Life Is Beautiful       8.50000        8477\n",
       "3892                   Homecoming: A Film by Beyoncé       8.50000         201\n",
       "233                           The Godfather: Part II       8.50000        6917\n",
       "1857                                     Tokyo Story       8.40000         450\n",
       "337                                Princess Mononoke       8.40000        4495\n",
       "703                                  Cinema Paradiso       8.40000        2141\n",
       "4636                                           Ikiru       8.40000         473"
      ]
     },
     "execution_count": 11,
     "metadata": {},
     "output_type": "execute_result"
    }
   ],
   "source": [
    "df[df[\"vote_count\"] > 110].sort_values(\"vote_average\", ascending=False).head(20)"
   ]
  },
  {
   "cell_type": "code",
   "execution_count": 12,
   "id": "660d695d-e8c9-422b-aa98-dc26561026ea",
   "metadata": {},
   "outputs": [],
   "source": [
    "from sklearn.preprocessing import MinMaxScaler\n",
    "\n",
    "df[\"vote_count_score\"] = MinMaxScaler(feature_range=(1, 10)).fit(df[[\"vote_count\"]]).transform(df[[\"vote_count\"]])"
   ]
  },
  {
   "cell_type": "code",
   "execution_count": 13,
   "id": "c1d2b6ed-7ab3-4b65-aa54-9983c9f06649",
   "metadata": {},
   "outputs": [],
   "source": [
    "# vote_average * vote_count\n",
    "########################\n",
    "df[\"average_count_score\"] = df[\"vote_average\"] * df[\"vote_count_score\"]"
   ]
  },
  {
   "cell_type": "code",
   "execution_count": 14,
   "id": "1e689861-a836-4c02-a51a-29b9ef54aed5",
   "metadata": {},
   "outputs": [
    {
     "data": {
      "text/html": [
       "<div>\n",
       "<style scoped>\n",
       "    .dataframe tbody tr th:only-of-type {\n",
       "        vertical-align: middle;\n",
       "    }\n",
       "\n",
       "    .dataframe tbody tr th {\n",
       "        vertical-align: top;\n",
       "    }\n",
       "\n",
       "    .dataframe thead th {\n",
       "        text-align: right;\n",
       "    }\n",
       "</style>\n",
       "<table border=\"1\" class=\"dataframe\">\n",
       "  <thead>\n",
       "    <tr style=\"text-align: right;\">\n",
       "      <th></th>\n",
       "      <th>title</th>\n",
       "      <th>vote_average</th>\n",
       "      <th>vote_count</th>\n",
       "      <th>vote_count_score</th>\n",
       "      <th>average_count_score</th>\n",
       "    </tr>\n",
       "  </thead>\n",
       "  <tbody>\n",
       "    <tr>\n",
       "      <th>80</th>\n",
       "      <td>Inception</td>\n",
       "      <td>8.30000</td>\n",
       "      <td>25148</td>\n",
       "      <td>10.00000</td>\n",
       "      <td>83.00000</td>\n",
       "    </tr>\n",
       "    <tr>\n",
       "      <th>88</th>\n",
       "      <td>The Dark Knight</td>\n",
       "      <td>8.40000</td>\n",
       "      <td>21561</td>\n",
       "      <td>8.71628</td>\n",
       "      <td>73.21675</td>\n",
       "    </tr>\n",
       "    <tr>\n",
       "      <th>47</th>\n",
       "      <td>Interstellar</td>\n",
       "      <td>8.30000</td>\n",
       "      <td>21589</td>\n",
       "      <td>8.72630</td>\n",
       "      <td>72.42829</td>\n",
       "    </tr>\n",
       "    <tr>\n",
       "      <th>128</th>\n",
       "      <td>Deadpool</td>\n",
       "      <td>7.60000</td>\n",
       "      <td>22225</td>\n",
       "      <td>8.95391</td>\n",
       "      <td>68.04974</td>\n",
       "    </tr>\n",
       "    <tr>\n",
       "      <th>86</th>\n",
       "      <td>The Avengers</td>\n",
       "      <td>7.70000</td>\n",
       "      <td>21893</td>\n",
       "      <td>8.83510</td>\n",
       "      <td>68.03024</td>\n",
       "    </tr>\n",
       "    <tr>\n",
       "      <th>402</th>\n",
       "      <td>Guardians of the Galaxy</td>\n",
       "      <td>7.90000</td>\n",
       "      <td>20132</td>\n",
       "      <td>8.20487</td>\n",
       "      <td>64.81845</td>\n",
       "    </tr>\n",
       "    <tr>\n",
       "      <th>243</th>\n",
       "      <td>Fight Club</td>\n",
       "      <td>8.40000</td>\n",
       "      <td>18664</td>\n",
       "      <td>7.67950</td>\n",
       "      <td>64.50778</td>\n",
       "    </tr>\n",
       "    <tr>\n",
       "      <th>216</th>\n",
       "      <td>Pulp Fiction</td>\n",
       "      <td>8.50000</td>\n",
       "      <td>18003</td>\n",
       "      <td>7.44294</td>\n",
       "      <td>63.26497</td>\n",
       "    </tr>\n",
       "    <tr>\n",
       "      <th>132</th>\n",
       "      <td>Avatar</td>\n",
       "      <td>7.40000</td>\n",
       "      <td>20778</td>\n",
       "      <td>8.43606</td>\n",
       "      <td>62.42683</td>\n",
       "    </tr>\n",
       "    <tr>\n",
       "      <th>361</th>\n",
       "      <td>Forrest Gump</td>\n",
       "      <td>8.40000</td>\n",
       "      <td>17344</td>\n",
       "      <td>7.20709</td>\n",
       "      <td>60.53959</td>\n",
       "    </tr>\n",
       "    <tr>\n",
       "      <th>63</th>\n",
       "      <td>Avengers: Infinity War</td>\n",
       "      <td>8.30000</td>\n",
       "      <td>17408</td>\n",
       "      <td>7.23000</td>\n",
       "      <td>60.00899</td>\n",
       "    </tr>\n",
       "    <tr>\n",
       "      <th>396</th>\n",
       "      <td>Django Unchained</td>\n",
       "      <td>8.10000</td>\n",
       "      <td>17864</td>\n",
       "      <td>7.39319</td>\n",
       "      <td>59.88486</td>\n",
       "    </tr>\n",
       "    <tr>\n",
       "      <th>121</th>\n",
       "      <td>The Lord of the Rings: The Fellowship of the Ring</td>\n",
       "      <td>8.30000</td>\n",
       "      <td>16434</td>\n",
       "      <td>6.88142</td>\n",
       "      <td>57.11580</td>\n",
       "    </tr>\n",
       "    <tr>\n",
       "      <th>96</th>\n",
       "      <td>The Shawshank Redemption</td>\n",
       "      <td>8.70000</td>\n",
       "      <td>15522</td>\n",
       "      <td>6.55503</td>\n",
       "      <td>57.02880</td>\n",
       "    </tr>\n",
       "    <tr>\n",
       "      <th>167</th>\n",
       "      <td>Iron Man</td>\n",
       "      <td>7.60000</td>\n",
       "      <td>17828</td>\n",
       "      <td>7.38031</td>\n",
       "      <td>56.09035</td>\n",
       "    </tr>\n",
       "    <tr>\n",
       "      <th>161</th>\n",
       "      <td>The Matrix</td>\n",
       "      <td>8.10000</td>\n",
       "      <td>16481</td>\n",
       "      <td>6.89824</td>\n",
       "      <td>55.87576</td>\n",
       "    </tr>\n",
       "    <tr>\n",
       "      <th>38</th>\n",
       "      <td>Harry Potter and the Philosopher's Stone</td>\n",
       "      <td>7.90000</td>\n",
       "      <td>16220</td>\n",
       "      <td>6.80484</td>\n",
       "      <td>53.75820</td>\n",
       "    </tr>\n",
       "    <tr>\n",
       "      <th>180</th>\n",
       "      <td>Titanic</td>\n",
       "      <td>7.80000</td>\n",
       "      <td>16434</td>\n",
       "      <td>6.88142</td>\n",
       "      <td>53.67509</td>\n",
       "    </tr>\n",
       "    <tr>\n",
       "      <th>197</th>\n",
       "      <td>The Lord of the Rings: The Return of the King</td>\n",
       "      <td>8.40000</td>\n",
       "      <td>14987</td>\n",
       "      <td>6.36357</td>\n",
       "      <td>53.45397</td>\n",
       "    </tr>\n",
       "    <tr>\n",
       "      <th>447</th>\n",
       "      <td>Shutter Island</td>\n",
       "      <td>8.10000</td>\n",
       "      <td>14891</td>\n",
       "      <td>6.32921</td>\n",
       "      <td>51.26661</td>\n",
       "    </tr>\n",
       "  </tbody>\n",
       "</table>\n",
       "</div>"
      ],
      "text/plain": [
       "                                                 title  vote_average  vote_count  vote_count_score  average_count_score\n",
       "80                                           Inception       8.30000       25148          10.00000             83.00000\n",
       "88                                     The Dark Knight       8.40000       21561           8.71628             73.21675\n",
       "47                                        Interstellar       8.30000       21589           8.72630             72.42829\n",
       "128                                           Deadpool       7.60000       22225           8.95391             68.04974\n",
       "86                                        The Avengers       7.70000       21893           8.83510             68.03024\n",
       "402                            Guardians of the Galaxy       7.90000       20132           8.20487             64.81845\n",
       "243                                         Fight Club       8.40000       18664           7.67950             64.50778\n",
       "216                                       Pulp Fiction       8.50000       18003           7.44294             63.26497\n",
       "132                                             Avatar       7.40000       20778           8.43606             62.42683\n",
       "361                                       Forrest Gump       8.40000       17344           7.20709             60.53959\n",
       "63                              Avengers: Infinity War       8.30000       17408           7.23000             60.00899\n",
       "396                                   Django Unchained       8.10000       17864           7.39319             59.88486\n",
       "121  The Lord of the Rings: The Fellowship of the Ring       8.30000       16434           6.88142             57.11580\n",
       "96                            The Shawshank Redemption       8.70000       15522           6.55503             57.02880\n",
       "167                                           Iron Man       7.60000       17828           7.38031             56.09035\n",
       "161                                         The Matrix       8.10000       16481           6.89824             55.87576\n",
       "38            Harry Potter and the Philosopher's Stone       7.90000       16220           6.80484             53.75820\n",
       "180                                            Titanic       7.80000       16434           6.88142             53.67509\n",
       "197      The Lord of the Rings: The Return of the King       8.40000       14987           6.36357             53.45397\n",
       "447                                     Shutter Island       8.10000       14891           6.32921             51.26661"
      ]
     },
     "execution_count": 14,
     "metadata": {},
     "output_type": "execute_result"
    }
   ],
   "source": [
    "df.sort_values(\"average_count_score\", ascending=False).head(20)"
   ]
  },
  {
   "cell_type": "code",
   "execution_count": 15,
   "id": "61bc54d8-022a-4a69-bbc5-39808c52a4f3",
   "metadata": {},
   "outputs": [],
   "source": [
    "########################\n",
    "# IMDB Weighted Rating : Scoring method used by IMDB\n",
    "########################\n",
    "# weighted_rating = (v/(v+M) * r) + (M/(v+M) * C)\n",
    "# r = vote average\n",
    "# v = vote count\n",
    "# M = minimum votes required to be listed in the Top 250\n",
    "# C = the mean vote across the whole report (currently 7.0)"
   ]
  },
  {
   "cell_type": "code",
   "execution_count": 16,
   "id": "d2bc9e38-e2b0-4554-8e78-512f6a5b5c7e",
   "metadata": {},
   "outputs": [],
   "source": [
    "M = 2500\n",
    "C = df['vote_average'].mean()"
   ]
  },
  {
   "cell_type": "code",
   "execution_count": 17,
   "id": "c73d740d-eba3-4420-8fe9-c8c0a67350da",
   "metadata": {},
   "outputs": [],
   "source": [
    "def weighted_rating(r, v, M, C):\n",
    "    return (v / (v + M) * r) + (M / (v + M) * C)"
   ]
  },
  {
   "cell_type": "code",
   "execution_count": 18,
   "id": "4e465bb4-4b4e-4e49-9cd3-e0d9d23bd176",
   "metadata": {},
   "outputs": [
    {
     "data": {
      "text/html": [
       "<div>\n",
       "<style scoped>\n",
       "    .dataframe tbody tr th:only-of-type {\n",
       "        vertical-align: middle;\n",
       "    }\n",
       "\n",
       "    .dataframe tbody tr th {\n",
       "        vertical-align: top;\n",
       "    }\n",
       "\n",
       "    .dataframe thead th {\n",
       "        text-align: right;\n",
       "    }\n",
       "</style>\n",
       "<table border=\"1\" class=\"dataframe\">\n",
       "  <thead>\n",
       "    <tr style=\"text-align: right;\">\n",
       "      <th></th>\n",
       "      <th>title</th>\n",
       "      <th>vote_average</th>\n",
       "      <th>vote_count</th>\n",
       "      <th>vote_count_score</th>\n",
       "      <th>average_count_score</th>\n",
       "    </tr>\n",
       "  </thead>\n",
       "  <tbody>\n",
       "    <tr>\n",
       "      <th>80</th>\n",
       "      <td>Inception</td>\n",
       "      <td>8.30000</td>\n",
       "      <td>25148</td>\n",
       "      <td>10.00000</td>\n",
       "      <td>83.00000</td>\n",
       "    </tr>\n",
       "    <tr>\n",
       "      <th>88</th>\n",
       "      <td>The Dark Knight</td>\n",
       "      <td>8.40000</td>\n",
       "      <td>21561</td>\n",
       "      <td>8.71628</td>\n",
       "      <td>73.21675</td>\n",
       "    </tr>\n",
       "    <tr>\n",
       "      <th>47</th>\n",
       "      <td>Interstellar</td>\n",
       "      <td>8.30000</td>\n",
       "      <td>21589</td>\n",
       "      <td>8.72630</td>\n",
       "      <td>72.42829</td>\n",
       "    </tr>\n",
       "    <tr>\n",
       "      <th>128</th>\n",
       "      <td>Deadpool</td>\n",
       "      <td>7.60000</td>\n",
       "      <td>22225</td>\n",
       "      <td>8.95391</td>\n",
       "      <td>68.04974</td>\n",
       "    </tr>\n",
       "    <tr>\n",
       "      <th>86</th>\n",
       "      <td>The Avengers</td>\n",
       "      <td>7.70000</td>\n",
       "      <td>21893</td>\n",
       "      <td>8.83510</td>\n",
       "      <td>68.03024</td>\n",
       "    </tr>\n",
       "    <tr>\n",
       "      <th>402</th>\n",
       "      <td>Guardians of the Galaxy</td>\n",
       "      <td>7.90000</td>\n",
       "      <td>20132</td>\n",
       "      <td>8.20487</td>\n",
       "      <td>64.81845</td>\n",
       "    </tr>\n",
       "    <tr>\n",
       "      <th>243</th>\n",
       "      <td>Fight Club</td>\n",
       "      <td>8.40000</td>\n",
       "      <td>18664</td>\n",
       "      <td>7.67950</td>\n",
       "      <td>64.50778</td>\n",
       "    </tr>\n",
       "    <tr>\n",
       "      <th>216</th>\n",
       "      <td>Pulp Fiction</td>\n",
       "      <td>8.50000</td>\n",
       "      <td>18003</td>\n",
       "      <td>7.44294</td>\n",
       "      <td>63.26497</td>\n",
       "    </tr>\n",
       "    <tr>\n",
       "      <th>132</th>\n",
       "      <td>Avatar</td>\n",
       "      <td>7.40000</td>\n",
       "      <td>20778</td>\n",
       "      <td>8.43606</td>\n",
       "      <td>62.42683</td>\n",
       "    </tr>\n",
       "    <tr>\n",
       "      <th>361</th>\n",
       "      <td>Forrest Gump</td>\n",
       "      <td>8.40000</td>\n",
       "      <td>17344</td>\n",
       "      <td>7.20709</td>\n",
       "      <td>60.53959</td>\n",
       "    </tr>\n",
       "  </tbody>\n",
       "</table>\n",
       "</div>"
      ],
      "text/plain": [
       "                       title  vote_average  vote_count  vote_count_score  average_count_score\n",
       "80                 Inception       8.30000       25148          10.00000             83.00000\n",
       "88           The Dark Knight       8.40000       21561           8.71628             73.21675\n",
       "47              Interstellar       8.30000       21589           8.72630             72.42829\n",
       "128                 Deadpool       7.60000       22225           8.95391             68.04974\n",
       "86              The Avengers       7.70000       21893           8.83510             68.03024\n",
       "402  Guardians of the Galaxy       7.90000       20132           8.20487             64.81845\n",
       "243               Fight Club       8.40000       18664           7.67950             64.50778\n",
       "216             Pulp Fiction       8.50000       18003           7.44294             63.26497\n",
       "132                   Avatar       7.40000       20778           8.43606             62.42683\n",
       "361             Forrest Gump       8.40000       17344           7.20709             60.53959"
      ]
     },
     "execution_count": 18,
     "metadata": {},
     "output_type": "execute_result"
    }
   ],
   "source": [
    "df.sort_values(\"average_count_score\", ascending=False).head(10)"
   ]
  },
  {
   "cell_type": "code",
   "execution_count": 19,
   "id": "7c9f3061-c683-4ec9-a3f6-1d81abfdd311",
   "metadata": {},
   "outputs": [
    {
     "data": {
      "text/plain": [
       "8.119718424479167"
      ]
     },
     "execution_count": 19,
     "metadata": {},
     "output_type": "execute_result"
    }
   ],
   "source": [
    "weighted_rating(8.30000, 25148.00000, M, C)"
   ]
  },
  {
   "cell_type": "code",
   "execution_count": 20,
   "id": "60f1bc1e-8fb0-4618-824d-a539538de8dc",
   "metadata": {},
   "outputs": [
    {
     "data": {
      "text/plain": [
       "8.182451893105025"
      ]
     },
     "execution_count": 20,
     "metadata": {},
     "output_type": "execute_result"
    }
   ],
   "source": [
    "weighted_rating(8.40000, 21561.00000, M, C)"
   ]
  },
  {
   "cell_type": "code",
   "execution_count": 21,
   "id": "7d157d6e-9719-4a20-80b6-998c3524ff26",
   "metadata": {},
   "outputs": [],
   "source": [
    "df[\"weighted_rating\"] = weighted_rating(df[\"vote_average\"],\n",
    "                                        df[\"vote_count\"], M, C)"
   ]
  },
  {
   "cell_type": "code",
   "execution_count": 22,
   "id": "3669c614-55a4-4a39-a0f3-a1f2c4053e84",
   "metadata": {},
   "outputs": [
    {
     "data": {
      "text/html": [
       "<div>\n",
       "<style scoped>\n",
       "    .dataframe tbody tr th:only-of-type {\n",
       "        vertical-align: middle;\n",
       "    }\n",
       "\n",
       "    .dataframe tbody tr th {\n",
       "        vertical-align: top;\n",
       "    }\n",
       "\n",
       "    .dataframe thead th {\n",
       "        text-align: right;\n",
       "    }\n",
       "</style>\n",
       "<table border=\"1\" class=\"dataframe\">\n",
       "  <thead>\n",
       "    <tr style=\"text-align: right;\">\n",
       "      <th></th>\n",
       "      <th>title</th>\n",
       "      <th>vote_average</th>\n",
       "      <th>vote_count</th>\n",
       "      <th>vote_count_score</th>\n",
       "      <th>average_count_score</th>\n",
       "      <th>weighted_rating</th>\n",
       "    </tr>\n",
       "  </thead>\n",
       "  <tbody>\n",
       "    <tr>\n",
       "      <th>96</th>\n",
       "      <td>The Shawshank Redemption</td>\n",
       "      <td>8.70000</td>\n",
       "      <td>15522</td>\n",
       "      <td>6.55503</td>\n",
       "      <td>57.02880</td>\n",
       "      <td>8.36794</td>\n",
       "    </tr>\n",
       "    <tr>\n",
       "      <th>110</th>\n",
       "      <td>The Godfather</td>\n",
       "      <td>8.70000</td>\n",
       "      <td>11768</td>\n",
       "      <td>5.21155</td>\n",
       "      <td>45.34046</td>\n",
       "      <td>8.28057</td>\n",
       "    </tr>\n",
       "    <tr>\n",
       "      <th>216</th>\n",
       "      <td>Pulp Fiction</td>\n",
       "      <td>8.50000</td>\n",
       "      <td>18003</td>\n",
       "      <td>7.44294</td>\n",
       "      <td>63.26497</td>\n",
       "      <td>8.23251</td>\n",
       "    </tr>\n",
       "    <tr>\n",
       "      <th>88</th>\n",
       "      <td>The Dark Knight</td>\n",
       "      <td>8.40000</td>\n",
       "      <td>21561</td>\n",
       "      <td>8.71628</td>\n",
       "      <td>73.21675</td>\n",
       "      <td>8.18245</td>\n",
       "    </tr>\n",
       "    <tr>\n",
       "      <th>243</th>\n",
       "      <td>Fight Club</td>\n",
       "      <td>8.40000</td>\n",
       "      <td>18664</td>\n",
       "      <td>7.67950</td>\n",
       "      <td>64.50778</td>\n",
       "      <td>8.15267</td>\n",
       "    </tr>\n",
       "    <tr>\n",
       "      <th>361</th>\n",
       "      <td>Forrest Gump</td>\n",
       "      <td>8.40000</td>\n",
       "      <td>17344</td>\n",
       "      <td>7.20709</td>\n",
       "      <td>60.53959</td>\n",
       "      <td>8.13622</td>\n",
       "    </tr>\n",
       "    <tr>\n",
       "      <th>80</th>\n",
       "      <td>Inception</td>\n",
       "      <td>8.30000</td>\n",
       "      <td>25148</td>\n",
       "      <td>10.00000</td>\n",
       "      <td>83.00000</td>\n",
       "      <td>8.11972</td>\n",
       "    </tr>\n",
       "    <tr>\n",
       "      <th>252</th>\n",
       "      <td>Schindler's List</td>\n",
       "      <td>8.60000</td>\n",
       "      <td>9366</td>\n",
       "      <td>4.35192</td>\n",
       "      <td>37.42648</td>\n",
       "      <td>8.11673</td>\n",
       "    </tr>\n",
       "    <tr>\n",
       "      <th>197</th>\n",
       "      <td>The Lord of the Rings: The Return of the King</td>\n",
       "      <td>8.40000</td>\n",
       "      <td>14987</td>\n",
       "      <td>6.36357</td>\n",
       "      <td>53.45397</td>\n",
       "      <td>8.10067</td>\n",
       "    </tr>\n",
       "    <tr>\n",
       "      <th>47</th>\n",
       "      <td>Interstellar</td>\n",
       "      <td>8.30000</td>\n",
       "      <td>21589</td>\n",
       "      <td>8.72630</td>\n",
       "      <td>72.42829</td>\n",
       "      <td>8.09308</td>\n",
       "    </tr>\n",
       "  </tbody>\n",
       "</table>\n",
       "</div>"
      ],
      "text/plain": [
       "                                             title  vote_average  vote_count  vote_count_score  average_count_score  weighted_rating\n",
       "96                        The Shawshank Redemption       8.70000       15522           6.55503             57.02880          8.36794\n",
       "110                                  The Godfather       8.70000       11768           5.21155             45.34046          8.28057\n",
       "216                                   Pulp Fiction       8.50000       18003           7.44294             63.26497          8.23251\n",
       "88                                 The Dark Knight       8.40000       21561           8.71628             73.21675          8.18245\n",
       "243                                     Fight Club       8.40000       18664           7.67950             64.50778          8.15267\n",
       "361                                   Forrest Gump       8.40000       17344           7.20709             60.53959          8.13622\n",
       "80                                       Inception       8.30000       25148          10.00000             83.00000          8.11972\n",
       "252                               Schindler's List       8.60000        9366           4.35192             37.42648          8.11673\n",
       "197  The Lord of the Rings: The Return of the King       8.40000       14987           6.36357             53.45397          8.10067\n",
       "47                                    Interstellar       8.30000       21589           8.72630             72.42829          8.09308"
      ]
     },
     "execution_count": 22,
     "metadata": {},
     "output_type": "execute_result"
    }
   ],
   "source": [
    "df.sort_values(\"weighted_rating\", ascending=False).head(10)"
   ]
  },
  {
   "cell_type": "code",
   "execution_count": 23,
   "id": "182db067-c908-4d8b-a152-d2d394e479fb",
   "metadata": {},
   "outputs": [],
   "source": [
    "# Bayesian Average Rating Score\n",
    "####################\n",
    "def bayesian_average_rating(n, confidence=0.95):\n",
    "    if sum(n) == 0:\n",
    "        return 0\n",
    "    K = len(n)\n",
    "    z = st.norm.ppf(1 - (1 - confidence) / 2)\n",
    "    N = sum(n)\n",
    "    first_part = 0.0\n",
    "    second_part = 0.0\n",
    "    for k, n_k in enumerate(n):\n",
    "        first_part += (k + 1) * (n[k] + 1) / (N + K)\n",
    "        second_part += (k + 1) * (k + 1) * (n[k] + 1) / (N + K)\n",
    "    score = first_part - z * math.sqrt((second_part - first_part * first_part) / (N + K + 1))\n",
    "    return score"
   ]
  },
  {
   "cell_type": "code",
   "execution_count": 24,
   "id": "570dcd49-a786-4667-9828-c4dc3d13f073",
   "metadata": {},
   "outputs": [
    {
     "data": {
      "text/plain": [
       "9.14538444560111"
      ]
     },
     "execution_count": 24,
     "metadata": {},
     "output_type": "execute_result"
    }
   ],
   "source": [
    "#I gave the voting numbers 1, 2,...,10 as the n value for the movie The Shawshank Redemption.\n",
    "bayesian_average_rating([34733, 4355, 4704, 6561, 13515, 26183, 87368, 273082, 600260, 1295351])"
   ]
  },
  {
   "cell_type": "code",
   "execution_count": 25,
   "id": "902a4a56-59b0-4361-8908-3c6eed54da36",
   "metadata": {},
   "outputs": [
    {
     "data": {
      "text/plain": [
       "8.940007324860396"
      ]
     },
     "execution_count": 25,
     "metadata": {},
     "output_type": "execute_result"
    }
   ],
   "source": [
    "#I gave the voting numbers 1, 2,...,10 as the n value for the movie The GodFather.\n",
    "bayesian_average_rating([37128, 5879, 6268, 8419, 16603, 30016, 78538, 199430, 402518, 837905])"
   ]
  },
  {
   "cell_type": "markdown",
   "id": "0b21e06c-764f-420c-bddb-a636634b4c4c",
   "metadata": {},
   "source": [
    "# Review SORTING Analytics \n",
    "## Sorting the relevant comment according to whether other users find it useful or not"
   ]
  },
  {
   "cell_type": "code",
   "execution_count": 27,
   "id": "e445d05a-6e96-4a8f-b0e9-d9741cddbd74",
   "metadata": {},
   "outputs": [],
   "source": [
    "import pandas as pd\n",
    "import math\n",
    "import scipy.stats as st\n",
    "\n",
    "pd.set_option('display.max_columns', None)\n",
    "pd.set_option('display.expand_frame_repr', False)\n",
    "pd.set_option('display.float_format', lambda x: '%.5f' % x)"
   ]
  },
  {
   "cell_type": "code",
   "execution_count": 28,
   "id": "0b5b07ae-97f4-4df5-bbc9-a34e2debd24e",
   "metadata": {},
   "outputs": [
    {
     "data": {
      "text/plain": [
       "200"
      ]
     },
     "execution_count": 28,
     "metadata": {},
     "output_type": "execute_result"
    }
   ],
   "source": [
    "###################################################\n",
    "# Up-Down Diff Score = (up ratings) − (down ratings)\n",
    "###################################################\n",
    "\n",
    "# Review 1: 600 up 400 down total 1000\n",
    "# Review 2: 5500 up 4500 down total 10000\n",
    "\n",
    "def score_up_down_diff(up, down):\n",
    "    return up - down\n",
    "\n",
    "# Review 1 Score:\n",
    "score_up_down_diff(600, 400)"
   ]
  },
  {
   "cell_type": "code",
   "execution_count": 29,
   "id": "2fb3c778-1034-4826-907b-1e33e21db1db",
   "metadata": {},
   "outputs": [
    {
     "data": {
      "text/plain": [
       "1000"
      ]
     },
     "execution_count": 29,
     "metadata": {},
     "output_type": "execute_result"
    }
   ],
   "source": [
    "# Review 2 Score\n",
    "score_up_down_diff(5500, 4500)"
   ]
  },
  {
   "cell_type": "code",
   "execution_count": 30,
   "id": "4e628832-6726-4d03-b8ed-8bc8a14552a1",
   "metadata": {},
   "outputs": [
    {
     "data": {
      "text/plain": [
       "0.6"
      ]
     },
     "execution_count": 30,
     "metadata": {},
     "output_type": "execute_result"
    }
   ],
   "source": [
    "###################################################\n",
    "# Score = Average rating = (up ratings) / (all ratings)\n",
    "###################################################\n",
    "\n",
    "def score_average_rating(up, down):\n",
    "    if up + down == 0:\n",
    "        return 0\n",
    "    return up / (up + down)\n",
    "\n",
    "score_average_rating(600, 400)"
   ]
  },
  {
   "cell_type": "code",
   "execution_count": 31,
   "id": "672213e6-dec2-4e3d-bc80-70e1e12f34e6",
   "metadata": {},
   "outputs": [
    {
     "data": {
      "text/plain": [
       "0.55"
      ]
     },
     "execution_count": 31,
     "metadata": {},
     "output_type": "execute_result"
    }
   ],
   "source": [
    "score_average_rating(5500, 4500)"
   ]
  },
  {
   "cell_type": "code",
   "execution_count": 32,
   "id": "6826d985-de92-46d6-a308-e0912d35f7fe",
   "metadata": {},
   "outputs": [],
   "source": [
    "###################################################\n",
    "# Wilson Lower Bound Score (WLB Score)\n",
    "###################################################\n",
    "def wilson_lower_bound(up, down, confidence=0.95):\n",
    "    \"\"\"\n",
    "    Wilson Lower Bound Score Calculation\n",
    "\n",
    "    - The lower limit of the confidence interval to be calculated for parameter Bernoulli is considered as the WLB score. \n",
    "    - The score to be calculated is used for product ranking.\n",
    "    - Note:\n",
    "    If the scores are between 1-5; 1-3 stars => negative (down), 4-5 stars => positive (up) and can be adapted to bernoulli.\n",
    "    This brings with it some problems. For this reason, it is necessary to make a bayesian average rating.\n",
    "\n",
    "    Parameters\n",
    "    ----------\n",
    "    up: int\n",
    "        up count\n",
    "    down: int\n",
    "        down count\n",
    "    confidence: float\n",
    "        confidence\n",
    "\n",
    "    Returns\n",
    "    -------\n",
    "    wilson score: float\n",
    "\n",
    "    \"\"\"\n",
    "    n = up + down\n",
    "    if n == 0:\n",
    "        return 0\n",
    "    z = st.norm.ppf(1 - (1 - confidence) / 2)\n",
    "    phat = 1.0 * up / n\n",
    "    \n",
    "    return (phat + z * z / (2 * n) - z * math.sqrt((phat * (1 - phat) + z * z / (4 * n)) / n)) / (1 + z * z / n)"
   ]
  },
  {
   "cell_type": "code",
   "execution_count": 33,
   "id": "15489bdd-8330-4649-96cd-473952de0215",
   "metadata": {},
   "outputs": [
    {
     "data": {
      "text/plain": [
       "0.5693094295142663"
      ]
     },
     "execution_count": 33,
     "metadata": {},
     "output_type": "execute_result"
    }
   ],
   "source": [
    "wilson_lower_bound(600, 400)"
   ]
  },
  {
   "cell_type": "code",
   "execution_count": 34,
   "id": "edc3eb3b-f29f-4ab3-b1ab-3cdd9e6fb09a",
   "metadata": {},
   "outputs": [
    {
     "data": {
      "text/plain": [
       "0.5402319557715324"
      ]
     },
     "execution_count": 34,
     "metadata": {},
     "output_type": "execute_result"
    }
   ],
   "source": [
    "wilson_lower_bound(5500, 4500)"
   ]
  },
  {
   "cell_type": "code",
   "execution_count": 35,
   "id": "37bb2e4a-6de0-4336-b277-fb2eb83eff82",
   "metadata": {},
   "outputs": [],
   "source": [
    "# Case Study\n",
    "###################################################\n",
    "up = [15, 70, 14, 4, 2, 5, 8, 37, 21, 52, 28, 147, 61, 30, 23, 40, 37, 61, 54, 18, 12, 68]\n",
    "down = [0, 2, 2, 2, 15, 2, 6, 5, 23, 8, 12, 2, 1, 1, 5, 1, 2, 6, 2, 0, 2, 2]\n",
    "comments = pd.DataFrame({\"up\": up, \"down\": down})"
   ]
  },
  {
   "cell_type": "code",
   "execution_count": 36,
   "id": "5e5fb903-5cb0-44a9-8874-2f940bbfde8e",
   "metadata": {},
   "outputs": [],
   "source": [
    "# score_pos_neg_diff\n",
    "comments[\"score_pos_neg_diff\"] = comments.apply(lambda x: score_up_down_diff(x[\"up\"],\n",
    "                                                                             x[\"down\"]), axis=1)"
   ]
  },
  {
   "cell_type": "code",
   "execution_count": 37,
   "id": "b0d83602-6eaa-4b3c-b542-06b6bcfb29e7",
   "metadata": {},
   "outputs": [],
   "source": [
    "# score_average_rating\n",
    "comments[\"score_average_rating\"] = comments.apply(lambda x: score_average_rating(x[\"up\"], x[\"down\"]), axis=1)"
   ]
  },
  {
   "cell_type": "code",
   "execution_count": 38,
   "id": "dae7b081-48bd-421d-ab6d-28fd0d29b916",
   "metadata": {},
   "outputs": [],
   "source": [
    "# wilson_lower_bound\n",
    "comments[\"wilson_lower_bound\"] = comments.apply(lambda x: wilson_lower_bound(x[\"up\"], x[\"down\"]), axis=1)"
   ]
  },
  {
   "cell_type": "code",
   "execution_count": 39,
   "id": "04a3bfea-6085-4693-b3d7-459a27824885",
   "metadata": {},
   "outputs": [
    {
     "data": {
      "text/html": [
       "<div>\n",
       "<style scoped>\n",
       "    .dataframe tbody tr th:only-of-type {\n",
       "        vertical-align: middle;\n",
       "    }\n",
       "\n",
       "    .dataframe tbody tr th {\n",
       "        vertical-align: top;\n",
       "    }\n",
       "\n",
       "    .dataframe thead th {\n",
       "        text-align: right;\n",
       "    }\n",
       "</style>\n",
       "<table border=\"1\" class=\"dataframe\">\n",
       "  <thead>\n",
       "    <tr style=\"text-align: right;\">\n",
       "      <th></th>\n",
       "      <th>up</th>\n",
       "      <th>down</th>\n",
       "      <th>score_pos_neg_diff</th>\n",
       "      <th>score_average_rating</th>\n",
       "      <th>wilson_lower_bound</th>\n",
       "    </tr>\n",
       "  </thead>\n",
       "  <tbody>\n",
       "    <tr>\n",
       "      <th>11</th>\n",
       "      <td>147</td>\n",
       "      <td>2</td>\n",
       "      <td>145</td>\n",
       "      <td>0.98658</td>\n",
       "      <td>0.95238</td>\n",
       "    </tr>\n",
       "    <tr>\n",
       "      <th>12</th>\n",
       "      <td>61</td>\n",
       "      <td>1</td>\n",
       "      <td>60</td>\n",
       "      <td>0.98387</td>\n",
       "      <td>0.91413</td>\n",
       "    </tr>\n",
       "    <tr>\n",
       "      <th>1</th>\n",
       "      <td>70</td>\n",
       "      <td>2</td>\n",
       "      <td>68</td>\n",
       "      <td>0.97222</td>\n",
       "      <td>0.90426</td>\n",
       "    </tr>\n",
       "    <tr>\n",
       "      <th>21</th>\n",
       "      <td>68</td>\n",
       "      <td>2</td>\n",
       "      <td>66</td>\n",
       "      <td>0.97143</td>\n",
       "      <td>0.90168</td>\n",
       "    </tr>\n",
       "    <tr>\n",
       "      <th>18</th>\n",
       "      <td>54</td>\n",
       "      <td>2</td>\n",
       "      <td>52</td>\n",
       "      <td>0.96429</td>\n",
       "      <td>0.87881</td>\n",
       "    </tr>\n",
       "    <tr>\n",
       "      <th>15</th>\n",
       "      <td>40</td>\n",
       "      <td>1</td>\n",
       "      <td>39</td>\n",
       "      <td>0.97561</td>\n",
       "      <td>0.87405</td>\n",
       "    </tr>\n",
       "    <tr>\n",
       "      <th>13</th>\n",
       "      <td>30</td>\n",
       "      <td>1</td>\n",
       "      <td>29</td>\n",
       "      <td>0.96774</td>\n",
       "      <td>0.83806</td>\n",
       "    </tr>\n",
       "    <tr>\n",
       "      <th>16</th>\n",
       "      <td>37</td>\n",
       "      <td>2</td>\n",
       "      <td>35</td>\n",
       "      <td>0.94872</td>\n",
       "      <td>0.83114</td>\n",
       "    </tr>\n",
       "    <tr>\n",
       "      <th>19</th>\n",
       "      <td>18</td>\n",
       "      <td>0</td>\n",
       "      <td>18</td>\n",
       "      <td>1.00000</td>\n",
       "      <td>0.82412</td>\n",
       "    </tr>\n",
       "    <tr>\n",
       "      <th>17</th>\n",
       "      <td>61</td>\n",
       "      <td>6</td>\n",
       "      <td>55</td>\n",
       "      <td>0.91045</td>\n",
       "      <td>0.81807</td>\n",
       "    </tr>\n",
       "    <tr>\n",
       "      <th>0</th>\n",
       "      <td>15</td>\n",
       "      <td>0</td>\n",
       "      <td>15</td>\n",
       "      <td>1.00000</td>\n",
       "      <td>0.79612</td>\n",
       "    </tr>\n",
       "    <tr>\n",
       "      <th>9</th>\n",
       "      <td>52</td>\n",
       "      <td>8</td>\n",
       "      <td>44</td>\n",
       "      <td>0.86667</td>\n",
       "      <td>0.75835</td>\n",
       "    </tr>\n",
       "    <tr>\n",
       "      <th>7</th>\n",
       "      <td>37</td>\n",
       "      <td>5</td>\n",
       "      <td>32</td>\n",
       "      <td>0.88095</td>\n",
       "      <td>0.75000</td>\n",
       "    </tr>\n",
       "    <tr>\n",
       "      <th>14</th>\n",
       "      <td>23</td>\n",
       "      <td>5</td>\n",
       "      <td>18</td>\n",
       "      <td>0.82143</td>\n",
       "      <td>0.64409</td>\n",
       "    </tr>\n",
       "    <tr>\n",
       "      <th>2</th>\n",
       "      <td>14</td>\n",
       "      <td>2</td>\n",
       "      <td>12</td>\n",
       "      <td>0.87500</td>\n",
       "      <td>0.63977</td>\n",
       "    </tr>\n",
       "    <tr>\n",
       "      <th>20</th>\n",
       "      <td>12</td>\n",
       "      <td>2</td>\n",
       "      <td>10</td>\n",
       "      <td>0.85714</td>\n",
       "      <td>0.60059</td>\n",
       "    </tr>\n",
       "    <tr>\n",
       "      <th>10</th>\n",
       "      <td>28</td>\n",
       "      <td>12</td>\n",
       "      <td>16</td>\n",
       "      <td>0.70000</td>\n",
       "      <td>0.54570</td>\n",
       "    </tr>\n",
       "    <tr>\n",
       "      <th>5</th>\n",
       "      <td>5</td>\n",
       "      <td>2</td>\n",
       "      <td>3</td>\n",
       "      <td>0.71429</td>\n",
       "      <td>0.35893</td>\n",
       "    </tr>\n",
       "    <tr>\n",
       "      <th>8</th>\n",
       "      <td>21</td>\n",
       "      <td>23</td>\n",
       "      <td>-2</td>\n",
       "      <td>0.47727</td>\n",
       "      <td>0.33755</td>\n",
       "    </tr>\n",
       "    <tr>\n",
       "      <th>6</th>\n",
       "      <td>8</td>\n",
       "      <td>6</td>\n",
       "      <td>2</td>\n",
       "      <td>0.57143</td>\n",
       "      <td>0.32591</td>\n",
       "    </tr>\n",
       "    <tr>\n",
       "      <th>3</th>\n",
       "      <td>4</td>\n",
       "      <td>2</td>\n",
       "      <td>2</td>\n",
       "      <td>0.66667</td>\n",
       "      <td>0.29999</td>\n",
       "    </tr>\n",
       "    <tr>\n",
       "      <th>4</th>\n",
       "      <td>2</td>\n",
       "      <td>15</td>\n",
       "      <td>-13</td>\n",
       "      <td>0.11765</td>\n",
       "      <td>0.03288</td>\n",
       "    </tr>\n",
       "  </tbody>\n",
       "</table>\n",
       "</div>"
      ],
      "text/plain": [
       "     up  down  score_pos_neg_diff  score_average_rating  wilson_lower_bound\n",
       "11  147     2                 145               0.98658             0.95238\n",
       "12   61     1                  60               0.98387             0.91413\n",
       "1    70     2                  68               0.97222             0.90426\n",
       "21   68     2                  66               0.97143             0.90168\n",
       "18   54     2                  52               0.96429             0.87881\n",
       "15   40     1                  39               0.97561             0.87405\n",
       "13   30     1                  29               0.96774             0.83806\n",
       "16   37     2                  35               0.94872             0.83114\n",
       "19   18     0                  18               1.00000             0.82412\n",
       "17   61     6                  55               0.91045             0.81807\n",
       "0    15     0                  15               1.00000             0.79612\n",
       "9    52     8                  44               0.86667             0.75835\n",
       "7    37     5                  32               0.88095             0.75000\n",
       "14   23     5                  18               0.82143             0.64409\n",
       "2    14     2                  12               0.87500             0.63977\n",
       "20   12     2                  10               0.85714             0.60059\n",
       "10   28    12                  16               0.70000             0.54570\n",
       "5     5     2                   3               0.71429             0.35893\n",
       "8    21    23                  -2               0.47727             0.33755\n",
       "6     8     6                   2               0.57143             0.32591\n",
       "3     4     2                   2               0.66667             0.29999\n",
       "4     2    15                 -13               0.11765             0.03288"
      ]
     },
     "execution_count": 39,
     "metadata": {},
     "output_type": "execute_result"
    }
   ],
   "source": [
    "comments.sort_values(\"wilson_lower_bound\", ascending=False)"
   ]
  }
 ],
 "metadata": {
  "kernelspec": {
   "display_name": "Python 3 (ipykernel)",
   "language": "python",
   "name": "python3"
  },
  "language_info": {
   "codemirror_mode": {
    "name": "ipython",
    "version": 3
   },
   "file_extension": ".py",
   "mimetype": "text/x-python",
   "name": "python",
   "nbconvert_exporter": "python",
   "pygments_lexer": "ipython3",
   "version": "3.11.5"
  }
 },
 "nbformat": 4,
 "nbformat_minor": 5
}
