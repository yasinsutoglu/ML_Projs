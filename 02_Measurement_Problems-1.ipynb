{
 "cells": [
  {
   "cell_type": "markdown",
   "id": "d21b2a37-d212-4d16-a1db-8dba6427b1e6",
   "metadata": {},
   "source": [
    "# MEASUREMENT PROBLEMS"
   ]
  },
  {
   "cell_type": "markdown",
   "id": "34e39153-d6a6-43d9-a589-4f780928b4ce",
   "metadata": {},
   "source": [
    "## Review Of Statics Fundamentals "
   ]
  },
  {
   "cell_type": "code",
   "execution_count": 1,
   "id": "dc16502c-fad6-4567-9ea0-c3fcc157d6f0",
   "metadata": {},
   "outputs": [],
   "source": [
    "import itertools\n",
    "import numpy as np\n",
    "import pandas as pd\n",
    "import matplotlib.pyplot as plt\n",
    "import seaborn as sns\n",
    "# !pip install statsmodels\n",
    "import statsmodels.stats.api as sms\n",
    "from scipy.stats import ttest_1samp, shapiro, levene, ttest_ind, mannwhitneyu, pearsonr, spearmanr, kendalltau, f_oneway, kruskal\n",
    "from statsmodels.stats.proportion import proportions_ztest\n",
    "\n",
    "pd.set_option('display.max_columns', None)\n",
    "pd.set_option('display.max_rows', 10)\n",
    "pd.set_option('display.float_format', lambda x: '%.5f' % x)"
   ]
  },
  {
   "cell_type": "markdown",
   "id": "a6170aa4-c02f-4583-8dbd-e64feab92942",
   "metadata": {},
   "source": [
    "### 1. SAMPLING : It is a representative of the main dataset"
   ]
  },
  {
   "cell_type": "code",
   "execution_count": 2,
   "id": "40b8858e-c753-4304-91de-4a93da22cb35",
   "metadata": {},
   "outputs": [
    {
     "data": {
      "text/plain": [
       "39.6935"
      ]
     },
     "execution_count": 2,
     "metadata": {},
     "output_type": "execute_result"
    }
   ],
   "source": [
    "population = np.random.randint(0, 80, 10000) # let it represent the ages of people in the neighborhood\n",
    "population.mean()"
   ]
  },
  {
   "cell_type": "code",
   "execution_count": 3,
   "id": "e7bb5127-0988-4ed7-a5bc-8f0314345ce5",
   "metadata": {},
   "outputs": [],
   "source": [
    "np.random.seed(115)"
   ]
  },
  {
   "cell_type": "code",
   "execution_count": 4,
   "id": "3ca9e3ea-3cd6-48ea-be24-5350d9c20f71",
   "metadata": {},
   "outputs": [
    {
     "data": {
      "text/plain": [
       "38.18"
      ]
     },
     "execution_count": 4,
     "metadata": {},
     "output_type": "execute_result"
    }
   ],
   "source": [
    "sample_set = np.random.choice(a=population, size=100)\n",
    "sample_set.mean()"
   ]
  },
  {
   "cell_type": "code",
   "execution_count": 6,
   "id": "931fcc7c-cc77-4dda-b5d3-cdcad24cb1de",
   "metadata": {},
   "outputs": [],
   "source": [
    "np.random.seed(10)\n",
    "# '''\n",
    "#  Reseed the singleton RandomState instance.    \n",
    "#         Notes\n",
    "#         -----\n",
    "#         This is a convenience, legacy function that exists to support\n",
    "#         older code that uses the singleton RandomState. Best practice\n",
    "#         is to use a dedicated ``Generator`` instance rather than\n",
    "#         the random variate generation methods exposed directly in\n",
    "#         the random module.\n",
    "# '''"
   ]
  },
  {
   "cell_type": "code",
   "execution_count": 8,
   "id": "12352f66-7b59-4660-bf35-c87753264047",
   "metadata": {},
   "outputs": [],
   "source": [
    "sample_set1 = np.random.choice(a=population, size=100)\n",
    "sample_set2 = np.random.choice(a=population, size=100)\n",
    "sample_set3 = np.random.choice(a=population, size=100)\n",
    "sample_set4 = np.random.choice(a=population, size=100)\n",
    "sample_set5 = np.random.choice(a=population, size=100)\n",
    "sample_set6 = np.random.choice(a=population, size=100)\n",
    "sample_set7 = np.random.choice(a=population, size=100)\n",
    "sample_set8 = np.random.choice(a=population, size=100)\n",
    "sample_set9 = np.random.choice(a=population, size=100)\n",
    "sample_set10 = np.random.choice(a=population, size=100)"
   ]
  },
  {
   "cell_type": "code",
   "execution_count": 9,
   "id": "1b567401-954c-4539-9dbe-2c1c9fbfe883",
   "metadata": {},
   "outputs": [
    {
     "data": {
      "text/plain": [
       "40.072"
      ]
     },
     "execution_count": 9,
     "metadata": {},
     "output_type": "execute_result"
    }
   ],
   "source": [
    "(sample_set1.mean() + sample_set2.mean() + sample_set3.mean() + sample_set4.mean() + sample_set5.mean()\n",
    " + sample_set6.mean() + sample_set7.mean() + sample_set8.mean() + sample_set9.mean() + sample_set10.mean()) / 10"
   ]
  },
  {
   "cell_type": "markdown",
   "id": "3530644c-1223-4427-bda9-b2604d42cd33",
   "metadata": {},
   "source": [
    "### 2.Descriptive Statistics"
   ]
  },
  {
   "cell_type": "code",
   "execution_count": 10,
   "id": "e569bbbd-ce6e-4e68-8b97-50ffd80dfef4",
   "metadata": {},
   "outputs": [
    {
     "data": {
      "text/html": [
       "<div>\n",
       "<style scoped>\n",
       "    .dataframe tbody tr th:only-of-type {\n",
       "        vertical-align: middle;\n",
       "    }\n",
       "\n",
       "    .dataframe tbody tr th {\n",
       "        vertical-align: top;\n",
       "    }\n",
       "\n",
       "    .dataframe thead th {\n",
       "        text-align: right;\n",
       "    }\n",
       "</style>\n",
       "<table border=\"1\" class=\"dataframe\">\n",
       "  <thead>\n",
       "    <tr style=\"text-align: right;\">\n",
       "      <th></th>\n",
       "      <th>count</th>\n",
       "      <th>mean</th>\n",
       "      <th>std</th>\n",
       "      <th>min</th>\n",
       "      <th>25%</th>\n",
       "      <th>50%</th>\n",
       "      <th>75%</th>\n",
       "      <th>max</th>\n",
       "    </tr>\n",
       "  </thead>\n",
       "  <tbody>\n",
       "    <tr>\n",
       "      <th>total_bill</th>\n",
       "      <td>244.00000</td>\n",
       "      <td>19.78594</td>\n",
       "      <td>8.90241</td>\n",
       "      <td>3.07000</td>\n",
       "      <td>13.34750</td>\n",
       "      <td>17.79500</td>\n",
       "      <td>24.12750</td>\n",
       "      <td>50.81000</td>\n",
       "    </tr>\n",
       "    <tr>\n",
       "      <th>tip</th>\n",
       "      <td>244.00000</td>\n",
       "      <td>2.99828</td>\n",
       "      <td>1.38364</td>\n",
       "      <td>1.00000</td>\n",
       "      <td>2.00000</td>\n",
       "      <td>2.90000</td>\n",
       "      <td>3.56250</td>\n",
       "      <td>10.00000</td>\n",
       "    </tr>\n",
       "    <tr>\n",
       "      <th>size</th>\n",
       "      <td>244.00000</td>\n",
       "      <td>2.56967</td>\n",
       "      <td>0.95110</td>\n",
       "      <td>1.00000</td>\n",
       "      <td>2.00000</td>\n",
       "      <td>2.00000</td>\n",
       "      <td>3.00000</td>\n",
       "      <td>6.00000</td>\n",
       "    </tr>\n",
       "  </tbody>\n",
       "</table>\n",
       "</div>"
      ],
      "text/plain": [
       "               count     mean     std     min      25%      50%      75%  \\\n",
       "total_bill 244.00000 19.78594 8.90241 3.07000 13.34750 17.79500 24.12750   \n",
       "tip        244.00000  2.99828 1.38364 1.00000  2.00000  2.90000  3.56250   \n",
       "size       244.00000  2.56967 0.95110 1.00000  2.00000  2.00000  3.00000   \n",
       "\n",
       "                max  \n",
       "total_bill 50.81000  \n",
       "tip        10.00000  \n",
       "size        6.00000  "
      ]
     },
     "execution_count": 10,
     "metadata": {},
     "output_type": "execute_result"
    }
   ],
   "source": [
    "df = sns.load_dataset(\"tips\")\n",
    "df.describe().T"
   ]
  },
  {
   "cell_type": "markdown",
   "id": "96a9aeb3-a268-4efe-adc5-306f4fe94061",
   "metadata": {},
   "source": [
    "### 3.Confidence Intervals"
   ]
  },
  {
   "cell_type": "code",
   "execution_count": 11,
   "id": "adbbe550-887f-42a6-bf43-a77f72aa9e36",
   "metadata": {},
   "outputs": [
    {
     "data": {
      "text/html": [
       "<div>\n",
       "<style scoped>\n",
       "    .dataframe tbody tr th:only-of-type {\n",
       "        vertical-align: middle;\n",
       "    }\n",
       "\n",
       "    .dataframe tbody tr th {\n",
       "        vertical-align: top;\n",
       "    }\n",
       "\n",
       "    .dataframe thead th {\n",
       "        text-align: right;\n",
       "    }\n",
       "</style>\n",
       "<table border=\"1\" class=\"dataframe\">\n",
       "  <thead>\n",
       "    <tr style=\"text-align: right;\">\n",
       "      <th></th>\n",
       "      <th>total_bill</th>\n",
       "      <th>tip</th>\n",
       "      <th>sex</th>\n",
       "      <th>smoker</th>\n",
       "      <th>day</th>\n",
       "      <th>time</th>\n",
       "      <th>size</th>\n",
       "    </tr>\n",
       "  </thead>\n",
       "  <tbody>\n",
       "    <tr>\n",
       "      <th>0</th>\n",
       "      <td>16.99000</td>\n",
       "      <td>1.01000</td>\n",
       "      <td>Female</td>\n",
       "      <td>No</td>\n",
       "      <td>Sun</td>\n",
       "      <td>Dinner</td>\n",
       "      <td>2</td>\n",
       "    </tr>\n",
       "    <tr>\n",
       "      <th>1</th>\n",
       "      <td>10.34000</td>\n",
       "      <td>1.66000</td>\n",
       "      <td>Male</td>\n",
       "      <td>No</td>\n",
       "      <td>Sun</td>\n",
       "      <td>Dinner</td>\n",
       "      <td>3</td>\n",
       "    </tr>\n",
       "    <tr>\n",
       "      <th>2</th>\n",
       "      <td>21.01000</td>\n",
       "      <td>3.50000</td>\n",
       "      <td>Male</td>\n",
       "      <td>No</td>\n",
       "      <td>Sun</td>\n",
       "      <td>Dinner</td>\n",
       "      <td>3</td>\n",
       "    </tr>\n",
       "    <tr>\n",
       "      <th>3</th>\n",
       "      <td>23.68000</td>\n",
       "      <td>3.31000</td>\n",
       "      <td>Male</td>\n",
       "      <td>No</td>\n",
       "      <td>Sun</td>\n",
       "      <td>Dinner</td>\n",
       "      <td>2</td>\n",
       "    </tr>\n",
       "    <tr>\n",
       "      <th>4</th>\n",
       "      <td>24.59000</td>\n",
       "      <td>3.61000</td>\n",
       "      <td>Female</td>\n",
       "      <td>No</td>\n",
       "      <td>Sun</td>\n",
       "      <td>Dinner</td>\n",
       "      <td>4</td>\n",
       "    </tr>\n",
       "  </tbody>\n",
       "</table>\n",
       "</div>"
      ],
      "text/plain": [
       "   total_bill     tip     sex smoker  day    time  size\n",
       "0    16.99000 1.01000  Female     No  Sun  Dinner     2\n",
       "1    10.34000 1.66000    Male     No  Sun  Dinner     3\n",
       "2    21.01000 3.50000    Male     No  Sun  Dinner     3\n",
       "3    23.68000 3.31000    Male     No  Sun  Dinner     2\n",
       "4    24.59000 3.61000  Female     No  Sun  Dinner     4"
      ]
     },
     "execution_count": 11,
     "metadata": {},
     "output_type": "execute_result"
    }
   ],
   "source": [
    "# Confidence Interval Calculation for Numerical Variables in the \"Tips\" DataSet\n",
    "# total_bill: total price of the meal (including tip and tax)\n",
    "# tip: \n",
    "# sex: gender of the person paying the fee(0=male, 1=female)\n",
    "# smoker:Is there anyone in the group who smokes? (0=No, 1=Yes)\n",
    "# day: (3=Thur, 4=Fri, 5=Sat, 6=Sun)\n",
    "# time:(0=Day, 1=Night)\n",
    "# size: How many people are in the group?\n",
    "df.head()"
   ]
  },
  {
   "cell_type": "code",
   "execution_count": 14,
   "id": "114a3914-d604-4df9-a7b1-e3110af02f1e",
   "metadata": {},
   "outputs": [
    {
     "data": {
      "text/plain": [
       "(18.66333170435847, 20.908553541543164)"
      ]
     },
     "execution_count": 14,
     "metadata": {},
     "output_type": "execute_result"
    }
   ],
   "source": [
    "sms.DescrStatsW(df[\"total_bill\"]).tconfint_mean() # statsmodels API used in here\n",
    "# I can say that the average account payable by customers is statistically between 18.66 and 20.90 with 95% confidence,\n",
    "# and I have a margin of error of 5%."
   ]
  },
  {
   "cell_type": "code",
   "execution_count": 15,
   "id": "a3307918-8280-4612-84f7-924d1764218d",
   "metadata": {},
   "outputs": [
    {
     "data": {
      "text/plain": [
       "(2.8237993062818205, 3.172758070767359)"
      ]
     },
     "execution_count": 15,
     "metadata": {},
     "output_type": "execute_result"
    }
   ],
   "source": [
    "sms.DescrStatsW(df[\"tip\"]).tconfint_mean()"
   ]
  },
  {
   "cell_type": "markdown",
   "id": "6071f5b9-c7f7-44fb-bd64-02604afe6e9e",
   "metadata": {},
   "source": [
    "**Confidence Interval Calculation for Numerical Variables in the \"Titanic\" DataSet**"
   ]
  },
  {
   "cell_type": "code",
   "execution_count": 16,
   "id": "30592deb-5723-4aaf-8911-15d37fde447e",
   "metadata": {},
   "outputs": [
    {
     "data": {
      "text/html": [
       "<div>\n",
       "<style scoped>\n",
       "    .dataframe tbody tr th:only-of-type {\n",
       "        vertical-align: middle;\n",
       "    }\n",
       "\n",
       "    .dataframe tbody tr th {\n",
       "        vertical-align: top;\n",
       "    }\n",
       "\n",
       "    .dataframe thead th {\n",
       "        text-align: right;\n",
       "    }\n",
       "</style>\n",
       "<table border=\"1\" class=\"dataframe\">\n",
       "  <thead>\n",
       "    <tr style=\"text-align: right;\">\n",
       "      <th></th>\n",
       "      <th>count</th>\n",
       "      <th>mean</th>\n",
       "      <th>std</th>\n",
       "      <th>min</th>\n",
       "      <th>25%</th>\n",
       "      <th>50%</th>\n",
       "      <th>75%</th>\n",
       "      <th>max</th>\n",
       "    </tr>\n",
       "  </thead>\n",
       "  <tbody>\n",
       "    <tr>\n",
       "      <th>survived</th>\n",
       "      <td>891.00000</td>\n",
       "      <td>0.38384</td>\n",
       "      <td>0.48659</td>\n",
       "      <td>0.00000</td>\n",
       "      <td>0.00000</td>\n",
       "      <td>0.00000</td>\n",
       "      <td>1.00000</td>\n",
       "      <td>1.00000</td>\n",
       "    </tr>\n",
       "    <tr>\n",
       "      <th>pclass</th>\n",
       "      <td>891.00000</td>\n",
       "      <td>2.30864</td>\n",
       "      <td>0.83607</td>\n",
       "      <td>1.00000</td>\n",
       "      <td>2.00000</td>\n",
       "      <td>3.00000</td>\n",
       "      <td>3.00000</td>\n",
       "      <td>3.00000</td>\n",
       "    </tr>\n",
       "    <tr>\n",
       "      <th>age</th>\n",
       "      <td>714.00000</td>\n",
       "      <td>29.69912</td>\n",
       "      <td>14.52650</td>\n",
       "      <td>0.42000</td>\n",
       "      <td>20.12500</td>\n",
       "      <td>28.00000</td>\n",
       "      <td>38.00000</td>\n",
       "      <td>80.00000</td>\n",
       "    </tr>\n",
       "    <tr>\n",
       "      <th>sibsp</th>\n",
       "      <td>891.00000</td>\n",
       "      <td>0.52301</td>\n",
       "      <td>1.10274</td>\n",
       "      <td>0.00000</td>\n",
       "      <td>0.00000</td>\n",
       "      <td>0.00000</td>\n",
       "      <td>1.00000</td>\n",
       "      <td>8.00000</td>\n",
       "    </tr>\n",
       "    <tr>\n",
       "      <th>parch</th>\n",
       "      <td>891.00000</td>\n",
       "      <td>0.38159</td>\n",
       "      <td>0.80606</td>\n",
       "      <td>0.00000</td>\n",
       "      <td>0.00000</td>\n",
       "      <td>0.00000</td>\n",
       "      <td>0.00000</td>\n",
       "      <td>6.00000</td>\n",
       "    </tr>\n",
       "    <tr>\n",
       "      <th>fare</th>\n",
       "      <td>891.00000</td>\n",
       "      <td>32.20421</td>\n",
       "      <td>49.69343</td>\n",
       "      <td>0.00000</td>\n",
       "      <td>7.91040</td>\n",
       "      <td>14.45420</td>\n",
       "      <td>31.00000</td>\n",
       "      <td>512.32920</td>\n",
       "    </tr>\n",
       "  </tbody>\n",
       "</table>\n",
       "</div>"
      ],
      "text/plain": [
       "             count     mean      std     min      25%      50%      75%  \\\n",
       "survived 891.00000  0.38384  0.48659 0.00000  0.00000  0.00000  1.00000   \n",
       "pclass   891.00000  2.30864  0.83607 1.00000  2.00000  3.00000  3.00000   \n",
       "age      714.00000 29.69912 14.52650 0.42000 20.12500 28.00000 38.00000   \n",
       "sibsp    891.00000  0.52301  1.10274 0.00000  0.00000  0.00000  1.00000   \n",
       "parch    891.00000  0.38159  0.80606 0.00000  0.00000  0.00000  0.00000   \n",
       "fare     891.00000 32.20421 49.69343 0.00000  7.91040 14.45420 31.00000   \n",
       "\n",
       "               max  \n",
       "survived   1.00000  \n",
       "pclass     3.00000  \n",
       "age       80.00000  \n",
       "sibsp      8.00000  \n",
       "parch      6.00000  \n",
       "fare     512.32920  "
      ]
     },
     "execution_count": 16,
     "metadata": {},
     "output_type": "execute_result"
    }
   ],
   "source": [
    "df = sns.load_dataset(\"titanic\")\n",
    "df.describe().T"
   ]
  },
  {
   "cell_type": "code",
   "execution_count": 17,
   "id": "523d66f0-208a-406f-b042-17f98cb1bca4",
   "metadata": {},
   "outputs": [
    {
     "data": {
      "text/plain": [
       "(28.631790041821507, 30.766445252296133)"
      ]
     },
     "execution_count": 17,
     "metadata": {},
     "output_type": "execute_result"
    }
   ],
   "source": [
    "sms.DescrStatsW(df[\"age\"].dropna()).tconfint_mean()"
   ]
  },
  {
   "cell_type": "code",
   "execution_count": 18,
   "id": "54944ea9-80ff-4c7f-b439-64ee51987b2e",
   "metadata": {},
   "outputs": [
    {
     "data": {
      "text/plain": [
       "(28.936831234567332, 35.471584702581936)"
      ]
     },
     "execution_count": 18,
     "metadata": {},
     "output_type": "execute_result"
    }
   ],
   "source": [
    "sms.DescrStatsW(df[\"fare\"].dropna()).tconfint_mean()"
   ]
  },
  {
   "cell_type": "markdown",
   "id": "7cd717a6-ae5a-4b0f-ab87-1818fb77ccf0",
   "metadata": {},
   "source": [
    "### 4.Correlation"
   ]
  },
  {
   "cell_type": "code",
   "execution_count": 19,
   "id": "55b577f2-95b5-4214-a33a-5bba4da91fb4",
   "metadata": {},
   "outputs": [
    {
     "data": {
      "text/html": [
       "<div>\n",
       "<style scoped>\n",
       "    .dataframe tbody tr th:only-of-type {\n",
       "        vertical-align: middle;\n",
       "    }\n",
       "\n",
       "    .dataframe tbody tr th {\n",
       "        vertical-align: top;\n",
       "    }\n",
       "\n",
       "    .dataframe thead th {\n",
       "        text-align: right;\n",
       "    }\n",
       "</style>\n",
       "<table border=\"1\" class=\"dataframe\">\n",
       "  <thead>\n",
       "    <tr style=\"text-align: right;\">\n",
       "      <th></th>\n",
       "      <th>total_bill</th>\n",
       "      <th>tip</th>\n",
       "      <th>sex</th>\n",
       "      <th>smoker</th>\n",
       "      <th>day</th>\n",
       "      <th>time</th>\n",
       "      <th>size</th>\n",
       "    </tr>\n",
       "  </thead>\n",
       "  <tbody>\n",
       "    <tr>\n",
       "      <th>0</th>\n",
       "      <td>16.99000</td>\n",
       "      <td>1.01000</td>\n",
       "      <td>Female</td>\n",
       "      <td>No</td>\n",
       "      <td>Sun</td>\n",
       "      <td>Dinner</td>\n",
       "      <td>2</td>\n",
       "    </tr>\n",
       "    <tr>\n",
       "      <th>1</th>\n",
       "      <td>10.34000</td>\n",
       "      <td>1.66000</td>\n",
       "      <td>Male</td>\n",
       "      <td>No</td>\n",
       "      <td>Sun</td>\n",
       "      <td>Dinner</td>\n",
       "      <td>3</td>\n",
       "    </tr>\n",
       "    <tr>\n",
       "      <th>2</th>\n",
       "      <td>21.01000</td>\n",
       "      <td>3.50000</td>\n",
       "      <td>Male</td>\n",
       "      <td>No</td>\n",
       "      <td>Sun</td>\n",
       "      <td>Dinner</td>\n",
       "      <td>3</td>\n",
       "    </tr>\n",
       "    <tr>\n",
       "      <th>3</th>\n",
       "      <td>23.68000</td>\n",
       "      <td>3.31000</td>\n",
       "      <td>Male</td>\n",
       "      <td>No</td>\n",
       "      <td>Sun</td>\n",
       "      <td>Dinner</td>\n",
       "      <td>2</td>\n",
       "    </tr>\n",
       "    <tr>\n",
       "      <th>4</th>\n",
       "      <td>24.59000</td>\n",
       "      <td>3.61000</td>\n",
       "      <td>Female</td>\n",
       "      <td>No</td>\n",
       "      <td>Sun</td>\n",
       "      <td>Dinner</td>\n",
       "      <td>4</td>\n",
       "    </tr>\n",
       "  </tbody>\n",
       "</table>\n",
       "</div>"
      ],
      "text/plain": [
       "   total_bill     tip     sex smoker  day    time  size\n",
       "0    16.99000 1.01000  Female     No  Sun  Dinner     2\n",
       "1    10.34000 1.66000    Male     No  Sun  Dinner     3\n",
       "2    21.01000 3.50000    Male     No  Sun  Dinner     3\n",
       "3    23.68000 3.31000    Male     No  Sun  Dinner     2\n",
       "4    24.59000 3.61000  Female     No  Sun  Dinner     4"
      ]
     },
     "execution_count": 19,
     "metadata": {},
     "output_type": "execute_result"
    }
   ],
   "source": [
    "df = sns.load_dataset('tips')\n",
    "df.head()"
   ]
  },
  {
   "cell_type": "code",
   "execution_count": 20,
   "id": "91c0915b-195b-40b0-8d69-472ae9572ee5",
   "metadata": {},
   "outputs": [],
   "source": [
    "df[\"total_bill\"] = df[\"total_bill\"] - df[\"tip\"]"
   ]
  },
  {
   "cell_type": "code",
   "execution_count": 21,
   "id": "3207a590-59f7-438c-99a8-552717aadc28",
   "metadata": {},
   "outputs": [
    {
     "data": {
      "image/png": "[encoded data removed]",
      "text/plain": [
       "<Figure size 640x480 with 1 Axes>"
      ]
     },
     "metadata": {},
     "output_type": "display_data"
    }
   ],
   "source": [
    "df.plot.scatter(\"tip\", \"total_bill\")\n",
    "plt.show()"
   ]
  },
  {
   "cell_type": "code",
   "execution_count": 22,
   "id": "2d8cf152-6f90-4590-bc5e-ab78f34ce595",
   "metadata": {},
   "outputs": [
    {
     "data": {
      "text/plain": [
       "0.5766634471096374"
      ]
     },
     "execution_count": 22,
     "metadata": {},
     "output_type": "execute_result"
    }
   ],
   "source": [
    "df[\"tip\"].corr(df[\"total_bill\"])"
   ]
  },
  {
   "cell_type": "markdown",
   "id": "3994c490-4dc3-4c77-b6e5-ffb5424e9a8f",
   "metadata": {},
   "source": [
    "### 5. AB Testing (Independent Two Sample T Test)\n",
    "**A represents one group, B represents the other group. It is a method that examines the differences between them.**"
   ]
  },
  {
   "cell_type": "markdown",
   "id": "8761068e-bac7-433e-bde9-ce087c107bb7",
   "metadata": {},
   "source": [
    "**Steps:** <br>\n",
    "* 1. Set Up Hypotheses\n",
    "* 2. Assumption Checking\n",
    "*    2.1. Normality Assumption\n",
    "*    2.2. Variance Homogeneity\n",
    "* 3. Application of Hypothesis\n",
    "*    3.1. If the assumptions are met, independent two-sample t test (parametric test)\n",
    "*    3.2. If the assumptions are not met, mannwhitneyu test (non-parametric test)\n",
    "* 4. Comment on results based on p-value"
   ]
  },
  {
   "cell_type": "code",
   "execution_count": 23,
   "id": "484e3381-44ff-425a-9d5e-6fc7461c78ab",
   "metadata": {},
   "outputs": [],
   "source": [
    "# Note:\n",
    "# If normality is not achieved, the argument is entered directly at number 2. If normality is achieved but variance homogeneity is not achieved, \n",
    "# the argument is entered at number 1.\n",
    "# It may be useful to perform outlier review and correction before normality review."
   ]
  },
  {
   "cell_type": "markdown",
   "id": "e74cad7b-49e5-43d1-8a63-193bc4c51c8b",
   "metadata": {},
   "source": [
    "#### App1: Is there a statistical difference between the account averages of smokers and non-smokers?"
   ]
  },
  {
   "cell_type": "code",
   "execution_count": 24,
   "id": "976a6032-a9e1-44b4-93d2-b8ca672aa364",
   "metadata": {},
   "outputs": [
    {
     "data": {
      "text/html": [
       "<div>\n",
       "<style scoped>\n",
       "    .dataframe tbody tr th:only-of-type {\n",
       "        vertical-align: middle;\n",
       "    }\n",
       "\n",
       "    .dataframe tbody tr th {\n",
       "        vertical-align: top;\n",
       "    }\n",
       "\n",
       "    .dataframe thead th {\n",
       "        text-align: right;\n",
       "    }\n",
       "</style>\n",
       "<table border=\"1\" class=\"dataframe\">\n",
       "  <thead>\n",
       "    <tr style=\"text-align: right;\">\n",
       "      <th></th>\n",
       "      <th>total_bill</th>\n",
       "      <th>tip</th>\n",
       "      <th>sex</th>\n",
       "      <th>smoker</th>\n",
       "      <th>day</th>\n",
       "      <th>time</th>\n",
       "      <th>size</th>\n",
       "    </tr>\n",
       "  </thead>\n",
       "  <tbody>\n",
       "    <tr>\n",
       "      <th>0</th>\n",
       "      <td>16.99000</td>\n",
       "      <td>1.01000</td>\n",
       "      <td>Female</td>\n",
       "      <td>No</td>\n",
       "      <td>Sun</td>\n",
       "      <td>Dinner</td>\n",
       "      <td>2</td>\n",
       "    </tr>\n",
       "    <tr>\n",
       "      <th>1</th>\n",
       "      <td>10.34000</td>\n",
       "      <td>1.66000</td>\n",
       "      <td>Male</td>\n",
       "      <td>No</td>\n",
       "      <td>Sun</td>\n",
       "      <td>Dinner</td>\n",
       "      <td>3</td>\n",
       "    </tr>\n",
       "    <tr>\n",
       "      <th>2</th>\n",
       "      <td>21.01000</td>\n",
       "      <td>3.50000</td>\n",
       "      <td>Male</td>\n",
       "      <td>No</td>\n",
       "      <td>Sun</td>\n",
       "      <td>Dinner</td>\n",
       "      <td>3</td>\n",
       "    </tr>\n",
       "    <tr>\n",
       "      <th>3</th>\n",
       "      <td>23.68000</td>\n",
       "      <td>3.31000</td>\n",
       "      <td>Male</td>\n",
       "      <td>No</td>\n",
       "      <td>Sun</td>\n",
       "      <td>Dinner</td>\n",
       "      <td>2</td>\n",
       "    </tr>\n",
       "    <tr>\n",
       "      <th>4</th>\n",
       "      <td>24.59000</td>\n",
       "      <td>3.61000</td>\n",
       "      <td>Female</td>\n",
       "      <td>No</td>\n",
       "      <td>Sun</td>\n",
       "      <td>Dinner</td>\n",
       "      <td>4</td>\n",
       "    </tr>\n",
       "  </tbody>\n",
       "</table>\n",
       "</div>"
      ],
      "text/plain": [
       "   total_bill     tip     sex smoker  day    time  size\n",
       "0    16.99000 1.01000  Female     No  Sun  Dinner     2\n",
       "1    10.34000 1.66000    Male     No  Sun  Dinner     3\n",
       "2    21.01000 3.50000    Male     No  Sun  Dinner     3\n",
       "3    23.68000 3.31000    Male     No  Sun  Dinner     2\n",
       "4    24.59000 3.61000  Female     No  Sun  Dinner     4"
      ]
     },
     "execution_count": 24,
     "metadata": {},
     "output_type": "execute_result"
    }
   ],
   "source": [
    "df = sns.load_dataset(\"tips\")\n",
    "df.head()"
   ]
  },
  {
   "cell_type": "code",
   "execution_count": 25,
   "id": "1803b943-5f71-4dac-81a7-6b7313aa1689",
   "metadata": {},
   "outputs": [
    {
     "name": "stderr",
     "output_type": "stream",
     "text": [
      "C:\\Users\\ASUS\\AppData\\Local\\Temp\\ipykernel_12256\\2483907789.py:1: FutureWarning: The default of observed=False is deprecated and will be changed to True in a future version of pandas. Pass observed=False to retain current behavior or observed=True to adopt the future default and silence this warning.\n",
      "  df.groupby(\"smoker\").agg({\"total_bill\": \"mean\"})\n"
     ]
    },
    {
     "data": {
      "text/html": [
       "<div>\n",
       "<style scoped>\n",
       "    .dataframe tbody tr th:only-of-type {\n",
       "        vertical-align: middle;\n",
       "    }\n",
       "\n",
       "    .dataframe tbody tr th {\n",
       "        vertical-align: top;\n",
       "    }\n",
       "\n",
       "    .dataframe thead th {\n",
       "        text-align: right;\n",
       "    }\n",
       "</style>\n",
       "<table border=\"1\" class=\"dataframe\">\n",
       "  <thead>\n",
       "    <tr style=\"text-align: right;\">\n",
       "      <th></th>\n",
       "      <th>total_bill</th>\n",
       "    </tr>\n",
       "    <tr>\n",
       "      <th>smoker</th>\n",
       "      <th></th>\n",
       "    </tr>\n",
       "  </thead>\n",
       "  <tbody>\n",
       "    <tr>\n",
       "      <th>Yes</th>\n",
       "      <td>20.75634</td>\n",
       "    </tr>\n",
       "    <tr>\n",
       "      <th>No</th>\n",
       "      <td>19.18828</td>\n",
       "    </tr>\n",
       "  </tbody>\n",
       "</table>\n",
       "</div>"
      ],
      "text/plain": [
       "        total_bill\n",
       "smoker            \n",
       "Yes       20.75634\n",
       "No        19.18828"
      ]
     },
     "execution_count": 25,
     "metadata": {},
     "output_type": "execute_result"
    }
   ],
   "source": [
    "df.groupby(\"smoker\").agg({\"total_bill\": \"mean\"})"
   ]
  },
  {
   "cell_type": "code",
   "execution_count": 26,
   "id": "1eb67a4c-9ce9-44bb-94af-435cc315937c",
   "metadata": {},
   "outputs": [
    {
     "name": "stdout",
     "output_type": "stream",
     "text": [
      "Test Stat = 0.9367, p-value = 0.0002\n"
     ]
    }
   ],
   "source": [
    "# Step-1\n",
    "# H0: M1 = M2 (Assumption that there is no difference between the calculation averages)\n",
    "# H1: M1 != M2\n",
    "\n",
    "# Step-2\n",
    "# ---Normality Assumption---\n",
    "# H0: Normal distribution assumption is met.\n",
    "# H1: Normal distribution assumption is NOT met.\n",
    "# shapiro() => The function tests whether the distribution of a test is normal.\n",
    "test_stat, pvalue = shapiro(df.loc[df[\"smoker\"] == \"Yes\", \"total_bill\"])\n",
    "print('Test Stat = %.4f, p-value = %.4f' % (test_stat, pvalue))"
   ]
  },
  {
   "cell_type": "code",
   "execution_count": 27,
   "id": "e1a431d7-3b5b-456f-b23a-1a987c4fa635",
   "metadata": {},
   "outputs": [],
   "source": [
    "# p-value < 0.05 =>  H0 DECLINED.\n",
    "# p-value > 0.05 =>  H0 IRREFUTABLE.\n",
    "#Test Stat = 0.9367, p-value = 0.0002 => H0 DECLINED, non-parametric will be used."
   ]
  },
  {
   "cell_type": "code",
   "execution_count": 28,
   "id": "fc7e3f92-3e50-4e3f-b38c-668998e9006a",
   "metadata": {},
   "outputs": [
    {
     "name": "stdout",
     "output_type": "stream",
     "text": [
      "Test Stat = 0.9045, p-value = 0.0000\n"
     ]
    }
   ],
   "source": [
    "test_stat, pvalue = shapiro(df.loc[df[\"smoker\"] == \"No\", \"total_bill\"])\n",
    "print('Test Stat = %.4f, p-value = %.4f' % (test_stat, pvalue))"
   ]
  },
  {
   "cell_type": "code",
   "execution_count": 29,
   "id": "9c3a4448-d64e-413a-9081-a566942b2ffd",
   "metadata": {},
   "outputs": [],
   "source": [
    "# Test Stat = 0.9045, p-value = 0.0000 => H0 DECLINED, non-parametric will be used."
   ]
  },
  {
   "cell_type": "code",
   "execution_count": 30,
   "id": "da51037e-03fc-44e7-babb-53f64816ae38",
   "metadata": {},
   "outputs": [
    {
     "name": "stdout",
     "output_type": "stream",
     "text": [
      "Test Stat = 4.0537, p-value = 0.0452\n"
     ]
    }
   ],
   "source": [
    "# ---Variance Homogeneity Assumption (levene Test Usage)---\n",
    "# H0: Variances Are Homogeneous\n",
    "# H1: Variances Are NOT Homogeneous\n",
    "# levene() => The fucntion tests whether the distribution of two tests exists.\n",
    "test_stat, pvalue = levene(df.loc[df[\"smoker\"] == \"Yes\", \"total_bill\"],\n",
    "                           df.loc[df[\"smoker\"] == \"No\", \"total_bill\"])\n",
    "print('Test Stat = %.4f, p-value = %.4f' % (test_stat, pvalue))"
   ]
  },
  {
   "cell_type": "code",
   "execution_count": 31,
   "id": "7a7a754b-90d7-434d-bf07-e3295c73ac3b",
   "metadata": {},
   "outputs": [],
   "source": [
    "# p-value < 0.05 =>  H0 DECLINED.\n",
    "# p-value > 0.05 =>  H0 IRREFUTABLE.\n",
    "#Test Stat = 4.0537, p-value = 0.0452 => H0 DECLINED, Variances Are NOT Homogeneous."
   ]
  },
  {
   "cell_type": "code",
   "execution_count": 33,
   "id": "9f563bd4-47c2-4490-aa80-d74d69845e6c",
   "metadata": {},
   "outputs": [
    {
     "name": "stdout",
     "output_type": "stream",
     "text": [
      "Test Stat = 1.3384, p-value = 0.1820\n"
     ]
    }
   ],
   "source": [
    "# STEP-3 & STEP-4\n",
    "# ---If the assumptions are met, independent two-sample t test (parametric test)---\n",
    "test_stat, pvalue = ttest_ind(df.loc[df[\"smoker\"] == \"Yes\", \"total_bill\"],\n",
    "                              df.loc[df[\"smoker\"] == \"No\", \"total_bill\"],\n",
    "                              equal_var=True)\n",
    "# If normality and variance homogeneity are ensured, => equal_var=true is entered.\n",
    "# If normality is achieved but variance homogeneity is not achieved, => equal_var=false is entered. It runs the \"welch test\" in the background.\n",
    "print('Test Stat = %.4f, p-value = %.4f' % (test_stat, pvalue))"
   ]
  },
  {
   "cell_type": "code",
   "execution_count": 34,
   "id": "3bfb4fb1-0b35-4697-bf00-5a0a7da428bb",
   "metadata": {},
   "outputs": [],
   "source": [
    "# p-value < 0.05 =>  H0 DECLINED.\n",
    "# p-value > 0.05 =>  H0 IRREFUTABLE.\n",
    "## Test Stat = 1.3384, p-value = 0.1820 => H0 IRREFUTABLE."
   ]
  },
  {
   "cell_type": "code",
   "execution_count": 35,
   "id": "ec9c5127-f281-4574-9df6-299a26c102ba",
   "metadata": {},
   "outputs": [
    {
     "name": "stdout",
     "output_type": "stream",
     "text": [
      "Test Stat = 7531.5000, p-value = 0.3413\n"
     ]
    }
   ],
   "source": [
    "# ---If the assumptions are not met, mannwhitneyu test (non-parametric test)---\n",
    "# mannwhitneyu testi => median values comparison test.\n",
    "test_stat, pvalue = mannwhitneyu(df.loc[df[\"smoker\"] == \"Yes\", \"total_bill\"],\n",
    "                                 df.loc[df[\"smoker\"] == \"No\", \"total_bill\"])\n",
    "\n",
    "print('Test Stat = %.4f, p-value = %.4f' % (test_stat, pvalue))"
   ]
  },
  {
   "cell_type": "code",
   "execution_count": 36,
   "id": "711294ba-a041-4fe5-8fca-527bfca63547",
   "metadata": {},
   "outputs": [],
   "source": [
    "# p-value < 0.05 =>  H0 DECLINED.\n",
    "# p-value > 0.05 =>  H0 IRREFUTABLE.\n",
    "## Test Stat = 7531.5000, p-value = 0.3413 => H0 IRREFUTABLE."
   ]
  },
  {
   "cell_type": "code",
   "execution_count": 37,
   "id": "821b880c-b4e9-42de-8409-8bec0a6316b0",
   "metadata": {},
   "outputs": [],
   "source": [
    "# IMPORTANT NOTE: We know the mistake we will make by rejecting H0 [alpha value (p-value)] but\n",
    "# We don't know the mistake to make by accepting H1.\n",
    "# Therefore, since we do not have a basis for H1, we always proceed based on H0."
   ]
  },
  {
   "cell_type": "markdown",
   "id": "5aa05bf8-19c3-45a1-a3a6-b8318a8e473e",
   "metadata": {},
   "source": [
    "#### App2: Is There a Statistically Significant Difference Between the Average Ages of Titanic Female and Male Passengers?"
   ]
  },
  {
   "cell_type": "code",
   "execution_count": 38,
   "id": "58c0c441-f066-4def-a882-b98fa4ccd427",
   "metadata": {},
   "outputs": [
    {
     "data": {
      "text/html": [
       "<div>\n",
       "<style scoped>\n",
       "    .dataframe tbody tr th:only-of-type {\n",
       "        vertical-align: middle;\n",
       "    }\n",
       "\n",
       "    .dataframe tbody tr th {\n",
       "        vertical-align: top;\n",
       "    }\n",
       "\n",
       "    .dataframe thead th {\n",
       "        text-align: right;\n",
       "    }\n",
       "</style>\n",
       "<table border=\"1\" class=\"dataframe\">\n",
       "  <thead>\n",
       "    <tr style=\"text-align: right;\">\n",
       "      <th></th>\n",
       "      <th>survived</th>\n",
       "      <th>pclass</th>\n",
       "      <th>sex</th>\n",
       "      <th>age</th>\n",
       "      <th>sibsp</th>\n",
       "      <th>parch</th>\n",
       "      <th>fare</th>\n",
       "      <th>embarked</th>\n",
       "      <th>class</th>\n",
       "      <th>who</th>\n",
       "      <th>adult_male</th>\n",
       "      <th>deck</th>\n",
       "      <th>embark_town</th>\n",
       "      <th>alive</th>\n",
       "      <th>alone</th>\n",
       "    </tr>\n",
       "  </thead>\n",
       "  <tbody>\n",
       "    <tr>\n",
       "      <th>0</th>\n",
       "      <td>0</td>\n",
       "      <td>3</td>\n",
       "      <td>male</td>\n",
       "      <td>22.00000</td>\n",
       "      <td>1</td>\n",
       "      <td>0</td>\n",
       "      <td>7.25000</td>\n",
       "      <td>S</td>\n",
       "      <td>Third</td>\n",
       "      <td>man</td>\n",
       "      <td>True</td>\n",
       "      <td>NaN</td>\n",
       "      <td>Southampton</td>\n",
       "      <td>no</td>\n",
       "      <td>False</td>\n",
       "    </tr>\n",
       "    <tr>\n",
       "      <th>1</th>\n",
       "      <td>1</td>\n",
       "      <td>1</td>\n",
       "      <td>female</td>\n",
       "      <td>38.00000</td>\n",
       "      <td>1</td>\n",
       "      <td>0</td>\n",
       "      <td>71.28330</td>\n",
       "      <td>C</td>\n",
       "      <td>First</td>\n",
       "      <td>woman</td>\n",
       "      <td>False</td>\n",
       "      <td>C</td>\n",
       "      <td>Cherbourg</td>\n",
       "      <td>yes</td>\n",
       "      <td>False</td>\n",
       "    </tr>\n",
       "    <tr>\n",
       "      <th>2</th>\n",
       "      <td>1</td>\n",
       "      <td>3</td>\n",
       "      <td>female</td>\n",
       "      <td>26.00000</td>\n",
       "      <td>0</td>\n",
       "      <td>0</td>\n",
       "      <td>7.92500</td>\n",
       "      <td>S</td>\n",
       "      <td>Third</td>\n",
       "      <td>woman</td>\n",
       "      <td>False</td>\n",
       "      <td>NaN</td>\n",
       "      <td>Southampton</td>\n",
       "      <td>yes</td>\n",
       "      <td>True</td>\n",
       "    </tr>\n",
       "    <tr>\n",
       "      <th>3</th>\n",
       "      <td>1</td>\n",
       "      <td>1</td>\n",
       "      <td>female</td>\n",
       "      <td>35.00000</td>\n",
       "      <td>1</td>\n",
       "      <td>0</td>\n",
       "      <td>53.10000</td>\n",
       "      <td>S</td>\n",
       "      <td>First</td>\n",
       "      <td>woman</td>\n",
       "      <td>False</td>\n",
       "      <td>C</td>\n",
       "      <td>Southampton</td>\n",
       "      <td>yes</td>\n",
       "      <td>False</td>\n",
       "    </tr>\n",
       "    <tr>\n",
       "      <th>4</th>\n",
       "      <td>0</td>\n",
       "      <td>3</td>\n",
       "      <td>male</td>\n",
       "      <td>35.00000</td>\n",
       "      <td>0</td>\n",
       "      <td>0</td>\n",
       "      <td>8.05000</td>\n",
       "      <td>S</td>\n",
       "      <td>Third</td>\n",
       "      <td>man</td>\n",
       "      <td>True</td>\n",
       "      <td>NaN</td>\n",
       "      <td>Southampton</td>\n",
       "      <td>no</td>\n",
       "      <td>True</td>\n",
       "    </tr>\n",
       "  </tbody>\n",
       "</table>\n",
       "</div>"
      ],
      "text/plain": [
       "   survived  pclass     sex      age  sibsp  parch     fare embarked  class  \\\n",
       "0         0       3    male 22.00000      1      0  7.25000        S  Third   \n",
       "1         1       1  female 38.00000      1      0 71.28330        C  First   \n",
       "2         1       3  female 26.00000      0      0  7.92500        S  Third   \n",
       "3         1       1  female 35.00000      1      0 53.10000        S  First   \n",
       "4         0       3    male 35.00000      0      0  8.05000        S  Third   \n",
       "\n",
       "     who  adult_male deck  embark_town alive  alone  \n",
       "0    man        True  NaN  Southampton    no  False  \n",
       "1  woman       False    C    Cherbourg   yes  False  \n",
       "2  woman       False  NaN  Southampton   yes   True  \n",
       "3  woman       False    C  Southampton   yes  False  \n",
       "4    man        True  NaN  Southampton    no   True  "
      ]
     },
     "execution_count": 38,
     "metadata": {},
     "output_type": "execute_result"
    }
   ],
   "source": [
    "df = sns.load_dataset(\"titanic\")\n",
    "df.head()"
   ]
  },
  {
   "cell_type": "code",
   "execution_count": 39,
   "id": "90821c96-96f4-436d-a30b-4a2ffd37220a",
   "metadata": {},
   "outputs": [
    {
     "data": {
      "text/html": [
       "<div>\n",
       "<style scoped>\n",
       "    .dataframe tbody tr th:only-of-type {\n",
       "        vertical-align: middle;\n",
       "    }\n",
       "\n",
       "    .dataframe tbody tr th {\n",
       "        vertical-align: top;\n",
       "    }\n",
       "\n",
       "    .dataframe thead th {\n",
       "        text-align: right;\n",
       "    }\n",
       "</style>\n",
       "<table border=\"1\" class=\"dataframe\">\n",
       "  <thead>\n",
       "    <tr style=\"text-align: right;\">\n",
       "      <th></th>\n",
       "      <th>age</th>\n",
       "    </tr>\n",
       "    <tr>\n",
       "      <th>sex</th>\n",
       "      <th></th>\n",
       "    </tr>\n",
       "  </thead>\n",
       "  <tbody>\n",
       "    <tr>\n",
       "      <th>female</th>\n",
       "      <td>27.91571</td>\n",
       "    </tr>\n",
       "    <tr>\n",
       "      <th>male</th>\n",
       "      <td>30.72664</td>\n",
       "    </tr>\n",
       "  </tbody>\n",
       "</table>\n",
       "</div>"
      ],
      "text/plain": [
       "            age\n",
       "sex            \n",
       "female 27.91571\n",
       "male   30.72664"
      ]
     },
     "execution_count": 39,
     "metadata": {},
     "output_type": "execute_result"
    }
   ],
   "source": [
    "df.groupby(\"sex\").agg({\"age\": \"mean\"})"
   ]
  },
  {
   "cell_type": "code",
   "execution_count": 40,
   "id": "19e0fd99-4f4e-449e-bbf8-3f76c7adc195",
   "metadata": {},
   "outputs": [
    {
     "name": "stdout",
     "output_type": "stream",
     "text": [
      "Test Stat = 0.9848, p-value = 0.0071\n"
     ]
    }
   ],
   "source": [
    "# STEP-1\n",
    "# H0: M1  = M2 (There is NO statistically significant difference between the average ages of female and male passengers)\n",
    "# H1: M1! = M2 (There is statistically significant difference between the average ages of female and male passengers)\n",
    "# STEP-2 \n",
    "# ---Normality Assumption---\n",
    "# H0: Normal distribution assumption is met.\n",
    "# H1: Normal distribution assumption is NOT met.\n",
    "test_stat, pvalue = shapiro(df.loc[df[\"sex\"] == \"female\", \"age\"].dropna())\n",
    "print('Test Stat = %.4f, p-value = %.4f' % (test_stat, pvalue))"
   ]
  },
  {
   "cell_type": "code",
   "execution_count": 41,
   "id": "40417323-8b68-4d56-a6d5-d6f44f2272a8",
   "metadata": {},
   "outputs": [
    {
     "name": "stdout",
     "output_type": "stream",
     "text": [
      "Test Stat = 0.9747, p-value = 0.0000\n"
     ]
    }
   ],
   "source": [
    "test_stat, pvalue = shapiro(df.loc[df[\"sex\"] == \"male\", \"age\"].dropna())\n",
    "print('Test Stat = %.4f, p-value = %.4f' % (test_stat, pvalue))"
   ]
  },
  {
   "cell_type": "code",
   "execution_count": 42,
   "id": "1b056e98-2846-4b86-862c-167e13a43f65",
   "metadata": {},
   "outputs": [],
   "source": [
    "# Nonparametric as assumptions are not met"
   ]
  },
  {
   "cell_type": "code",
   "execution_count": 43,
   "id": "84f8c7f3-cf8d-4156-b8a4-00027cc7d217",
   "metadata": {},
   "outputs": [
    {
     "name": "stdout",
     "output_type": "stream",
     "text": [
      "Test Stat = 0.0013, p-value = 0.9712\n"
     ]
    }
   ],
   "source": [
    "# ---Variance Homogeneity Assumption---\n",
    "# H0: Variances Are Homogeneous\n",
    "# H1: Variances Are NOT Homogeneous\n",
    "test_stat, pvalue = levene(df.loc[df[\"sex\"] == \"female\", \"age\"].dropna(),\n",
    "                           df.loc[df[\"sex\"] == \"male\", \"age\"].dropna())\n",
    "\n",
    "print('Test Stat = %.4f, p-value = %.4f' % (test_stat, pvalue))"
   ]
  },
  {
   "cell_type": "code",
   "execution_count": 44,
   "id": "1110d716-cd35-44ed-aa91-a9085d98536c",
   "metadata": {},
   "outputs": [],
   "source": [
    "# Normality was not provided, I have looked extra here, but I saw that Assumptions were provided"
   ]
  },
  {
   "cell_type": "code",
   "execution_count": 45,
   "id": "a1e56b6d-7c8f-4f6b-9213-cb9f1e501e0d",
   "metadata": {},
   "outputs": [
    {
     "name": "stdout",
     "output_type": "stream",
     "text": [
      "Test Stat = 53212.5000, p-value = 0.0261\n"
     ]
    }
   ],
   "source": [
    "# Non-Parametric Test \n",
    "test_stat, pvalue = mannwhitneyu(df.loc[df[\"sex\"] == \"female\", \"age\"].dropna(),\n",
    "                                 df.loc[df[\"sex\"] == \"male\", \"age\"].dropna())\n",
    "\n",
    "print('Test Stat = %.4f, p-value = %.4f' % (test_stat, pvalue))"
   ]
  },
  {
   "cell_type": "code",
   "execution_count": 46,
   "id": "55af77b5-ad71-4fdf-8873-f73dd64c8993",
   "metadata": {},
   "outputs": [],
   "source": [
    "# Test Stat = 53212.5000, p-value = 0.0261 => H0 REFUSED"
   ]
  },
  {
   "cell_type": "markdown",
   "id": "7d3abc95-60f7-46ba-ae87-09f0e75f42cc",
   "metadata": {},
   "source": [
    "### 6. AB Testing (Two Sample Proportion Test) "
   ]
  },
  {
   "cell_type": "code",
   "execution_count": 52,
   "id": "1f0a9bce-6c2a-4237-baa7-94215224dfcf",
   "metadata": {},
   "outputs": [],
   "source": [
    "# H0: p1 = p2 (There is NO statistically significant difference between the conversion rate of the new design and the conversion rate of the old design.)\n",
    "# H1: p1 != p2 (There is statistically significant difference between the conversion rate of the new design and the conversion rate of the old design.)\n",
    "# ***H0: p1 = p2 => p1 - p2 = 0***"
   ]
  },
  {
   "cell_type": "code",
   "execution_count": 48,
   "id": "030e18de-ec17-4b5b-a101-edda77b35735",
   "metadata": {},
   "outputs": [
    {
     "data": {
      "text/plain": [
       "(3.7857863233209255, 0.0001532232957772221)"
      ]
     },
     "execution_count": 48,
     "metadata": {},
     "output_type": "execute_result"
    }
   ],
   "source": [
    "success_values = np.array([300, 250])\n",
    "observ_values = np.array([1000, 1100])\n",
    "proportions_ztest(count=success_values, nobs=observ_values)"
   ]
  },
  {
   "cell_type": "code",
   "execution_count": 49,
   "id": "50db5a02-7fcd-43e5-ba98-0de9dadf265b",
   "metadata": {},
   "outputs": [],
   "source": [
    "# p-value => 0.0001532232957772221"
   ]
  },
  {
   "cell_type": "code",
   "execution_count": 50,
   "id": "594c1639-8ed4-40ac-919c-d21e25792ed9",
   "metadata": {},
   "outputs": [
    {
     "data": {
      "text/plain": [
       "array([0.3       , 0.22727273])"
      ]
     },
     "execution_count": 50,
     "metadata": {},
     "output_type": "execute_result"
    }
   ],
   "source": [
    "success_values / observ_values"
   ]
  },
  {
   "cell_type": "markdown",
   "id": "8aac1962-1e26-439f-b5fc-acd8248e7d31",
   "metadata": {},
   "source": [
    "#### App1: Is There a Statistically Significant Difference Between the Survival Rates of Men and Women?"
   ]
  },
  {
   "cell_type": "code",
   "execution_count": 53,
   "id": "f3183c59-7ed0-446d-91b3-e72491a950ac",
   "metadata": {},
   "outputs": [],
   "source": [
    "# H0: p1 = p2 => p1 - p2 = 0 --> NO\n",
    "# H1: p1 != p2 --> YES"
   ]
  },
  {
   "cell_type": "code",
   "execution_count": 54,
   "id": "641c455d-299b-4b03-b696-0fb4a8f7a282",
   "metadata": {},
   "outputs": [
    {
     "data": {
      "text/html": [
       "<div>\n",
       "<style scoped>\n",
       "    .dataframe tbody tr th:only-of-type {\n",
       "        vertical-align: middle;\n",
       "    }\n",
       "\n",
       "    .dataframe tbody tr th {\n",
       "        vertical-align: top;\n",
       "    }\n",
       "\n",
       "    .dataframe thead th {\n",
       "        text-align: right;\n",
       "    }\n",
       "</style>\n",
       "<table border=\"1\" class=\"dataframe\">\n",
       "  <thead>\n",
       "    <tr style=\"text-align: right;\">\n",
       "      <th></th>\n",
       "      <th>survived</th>\n",
       "      <th>pclass</th>\n",
       "      <th>sex</th>\n",
       "      <th>age</th>\n",
       "      <th>sibsp</th>\n",
       "      <th>parch</th>\n",
       "      <th>fare</th>\n",
       "      <th>embarked</th>\n",
       "      <th>class</th>\n",
       "      <th>who</th>\n",
       "      <th>adult_male</th>\n",
       "      <th>deck</th>\n",
       "      <th>embark_town</th>\n",
       "      <th>alive</th>\n",
       "      <th>alone</th>\n",
       "    </tr>\n",
       "  </thead>\n",
       "  <tbody>\n",
       "    <tr>\n",
       "      <th>0</th>\n",
       "      <td>0</td>\n",
       "      <td>3</td>\n",
       "      <td>male</td>\n",
       "      <td>22.00000</td>\n",
       "      <td>1</td>\n",
       "      <td>0</td>\n",
       "      <td>7.25000</td>\n",
       "      <td>S</td>\n",
       "      <td>Third</td>\n",
       "      <td>man</td>\n",
       "      <td>True</td>\n",
       "      <td>NaN</td>\n",
       "      <td>Southampton</td>\n",
       "      <td>no</td>\n",
       "      <td>False</td>\n",
       "    </tr>\n",
       "    <tr>\n",
       "      <th>1</th>\n",
       "      <td>1</td>\n",
       "      <td>1</td>\n",
       "      <td>female</td>\n",
       "      <td>38.00000</td>\n",
       "      <td>1</td>\n",
       "      <td>0</td>\n",
       "      <td>71.28330</td>\n",
       "      <td>C</td>\n",
       "      <td>First</td>\n",
       "      <td>woman</td>\n",
       "      <td>False</td>\n",
       "      <td>C</td>\n",
       "      <td>Cherbourg</td>\n",
       "      <td>yes</td>\n",
       "      <td>False</td>\n",
       "    </tr>\n",
       "    <tr>\n",
       "      <th>2</th>\n",
       "      <td>1</td>\n",
       "      <td>3</td>\n",
       "      <td>female</td>\n",
       "      <td>26.00000</td>\n",
       "      <td>0</td>\n",
       "      <td>0</td>\n",
       "      <td>7.92500</td>\n",
       "      <td>S</td>\n",
       "      <td>Third</td>\n",
       "      <td>woman</td>\n",
       "      <td>False</td>\n",
       "      <td>NaN</td>\n",
       "      <td>Southampton</td>\n",
       "      <td>yes</td>\n",
       "      <td>True</td>\n",
       "    </tr>\n",
       "    <tr>\n",
       "      <th>3</th>\n",
       "      <td>1</td>\n",
       "      <td>1</td>\n",
       "      <td>female</td>\n",
       "      <td>35.00000</td>\n",
       "      <td>1</td>\n",
       "      <td>0</td>\n",
       "      <td>53.10000</td>\n",
       "      <td>S</td>\n",
       "      <td>First</td>\n",
       "      <td>woman</td>\n",
       "      <td>False</td>\n",
       "      <td>C</td>\n",
       "      <td>Southampton</td>\n",
       "      <td>yes</td>\n",
       "      <td>False</td>\n",
       "    </tr>\n",
       "    <tr>\n",
       "      <th>4</th>\n",
       "      <td>0</td>\n",
       "      <td>3</td>\n",
       "      <td>male</td>\n",
       "      <td>35.00000</td>\n",
       "      <td>0</td>\n",
       "      <td>0</td>\n",
       "      <td>8.05000</td>\n",
       "      <td>S</td>\n",
       "      <td>Third</td>\n",
       "      <td>man</td>\n",
       "      <td>True</td>\n",
       "      <td>NaN</td>\n",
       "      <td>Southampton</td>\n",
       "      <td>no</td>\n",
       "      <td>True</td>\n",
       "    </tr>\n",
       "  </tbody>\n",
       "</table>\n",
       "</div>"
      ],
      "text/plain": [
       "   survived  pclass     sex      age  sibsp  parch     fare embarked  class  \\\n",
       "0         0       3    male 22.00000      1      0  7.25000        S  Third   \n",
       "1         1       1  female 38.00000      1      0 71.28330        C  First   \n",
       "2         1       3  female 26.00000      0      0  7.92500        S  Third   \n",
       "3         1       1  female 35.00000      1      0 53.10000        S  First   \n",
       "4         0       3    male 35.00000      0      0  8.05000        S  Third   \n",
       "\n",
       "     who  adult_male deck  embark_town alive  alone  \n",
       "0    man        True  NaN  Southampton    no  False  \n",
       "1  woman       False    C    Cherbourg   yes  False  \n",
       "2  woman       False  NaN  Southampton   yes   True  \n",
       "3  woman       False    C  Southampton   yes  False  \n",
       "4    man        True  NaN  Southampton    no   True  "
      ]
     },
     "execution_count": 54,
     "metadata": {},
     "output_type": "execute_result"
    }
   ],
   "source": [
    "df = sns.load_dataset(\"titanic\")\n",
    "df.head()"
   ]
  },
  {
   "cell_type": "code",
   "execution_count": 55,
   "id": "80c64b3b-6b84-466a-8c4c-8bc0aa813894",
   "metadata": {},
   "outputs": [
    {
     "data": {
      "text/plain": [
       "0.7420382165605095"
      ]
     },
     "execution_count": 55,
     "metadata": {},
     "output_type": "execute_result"
    }
   ],
   "source": [
    "df.loc[df[\"sex\"] == \"female\", \"survived\"].mean()"
   ]
  },
  {
   "cell_type": "code",
   "execution_count": 56,
   "id": "92a5b1cc-a25c-4101-8775-414d979910f1",
   "metadata": {},
   "outputs": [
    {
     "data": {
      "text/plain": [
       "0.18890814558058924"
      ]
     },
     "execution_count": 56,
     "metadata": {},
     "output_type": "execute_result"
    }
   ],
   "source": [
    "df.loc[df[\"sex\"] == \"male\", \"survived\"].mean()"
   ]
  },
  {
   "cell_type": "code",
   "execution_count": 58,
   "id": "4f7b456a-cb3e-4ae6-a416-2640cd44bbef",
   "metadata": {},
   "outputs": [],
   "source": [
    "female_succ_count = df.loc[df[\"sex\"] == \"female\", \"survived\"].sum()\n",
    "male_succ_count = df.loc[df[\"sex\"] == \"male\", \"survived\"].sum()"
   ]
  },
  {
   "cell_type": "code",
   "execution_count": 59,
   "id": "01b2a52f-79f3-4858-aa84-db89e5d055dc",
   "metadata": {},
   "outputs": [
    {
     "name": "stdout",
     "output_type": "stream",
     "text": [
      "Test Stat = 16.2188, p-value = 0.0000\n"
     ]
    }
   ],
   "source": [
    "test_stat, pvalue = proportions_ztest(count=[female_succ_count, male_succ_count],\n",
    "                                      nobs=[df.loc[df[\"sex\"] == \"female\", \"survived\"].shape[0],\n",
    "                                            df.loc[df[\"sex\"] == \"male\", \"survived\"].shape[0]])\n",
    "print('Test Stat = %.4f, p-value = %.4f' % (test_stat, pvalue))"
   ]
  },
  {
   "cell_type": "markdown",
   "id": "43952612-51e8-4ecf-8fa3-41e529e47122",
   "metadata": {},
   "source": [
    "### 7. ANOVA (Analysis of Variance)"
   ]
  },
  {
   "cell_type": "markdown",
   "id": "5e753954-1037-4863-95d6-d2a84407d7a0",
   "metadata": {},
   "source": [
    "##### Used to compare more than two group averages."
   ]
  },
  {
   "cell_type": "code",
   "execution_count": 60,
   "id": "3ec37385-af2a-494e-b0a2-4a82dcc0aa28",
   "metadata": {},
   "outputs": [
    {
     "data": {
      "text/html": [
       "<div>\n",
       "<style scoped>\n",
       "    .dataframe tbody tr th:only-of-type {\n",
       "        vertical-align: middle;\n",
       "    }\n",
       "\n",
       "    .dataframe tbody tr th {\n",
       "        vertical-align: top;\n",
       "    }\n",
       "\n",
       "    .dataframe thead th {\n",
       "        text-align: right;\n",
       "    }\n",
       "</style>\n",
       "<table border=\"1\" class=\"dataframe\">\n",
       "  <thead>\n",
       "    <tr style=\"text-align: right;\">\n",
       "      <th></th>\n",
       "      <th>total_bill</th>\n",
       "      <th>tip</th>\n",
       "      <th>sex</th>\n",
       "      <th>smoker</th>\n",
       "      <th>day</th>\n",
       "      <th>time</th>\n",
       "      <th>size</th>\n",
       "    </tr>\n",
       "  </thead>\n",
       "  <tbody>\n",
       "    <tr>\n",
       "      <th>0</th>\n",
       "      <td>16.99000</td>\n",
       "      <td>1.01000</td>\n",
       "      <td>Female</td>\n",
       "      <td>No</td>\n",
       "      <td>Sun</td>\n",
       "      <td>Dinner</td>\n",
       "      <td>2</td>\n",
       "    </tr>\n",
       "    <tr>\n",
       "      <th>1</th>\n",
       "      <td>10.34000</td>\n",
       "      <td>1.66000</td>\n",
       "      <td>Male</td>\n",
       "      <td>No</td>\n",
       "      <td>Sun</td>\n",
       "      <td>Dinner</td>\n",
       "      <td>3</td>\n",
       "    </tr>\n",
       "    <tr>\n",
       "      <th>2</th>\n",
       "      <td>21.01000</td>\n",
       "      <td>3.50000</td>\n",
       "      <td>Male</td>\n",
       "      <td>No</td>\n",
       "      <td>Sun</td>\n",
       "      <td>Dinner</td>\n",
       "      <td>3</td>\n",
       "    </tr>\n",
       "    <tr>\n",
       "      <th>3</th>\n",
       "      <td>23.68000</td>\n",
       "      <td>3.31000</td>\n",
       "      <td>Male</td>\n",
       "      <td>No</td>\n",
       "      <td>Sun</td>\n",
       "      <td>Dinner</td>\n",
       "      <td>2</td>\n",
       "    </tr>\n",
       "    <tr>\n",
       "      <th>4</th>\n",
       "      <td>24.59000</td>\n",
       "      <td>3.61000</td>\n",
       "      <td>Female</td>\n",
       "      <td>No</td>\n",
       "      <td>Sun</td>\n",
       "      <td>Dinner</td>\n",
       "      <td>4</td>\n",
       "    </tr>\n",
       "  </tbody>\n",
       "</table>\n",
       "</div>"
      ],
      "text/plain": [
       "   total_bill     tip     sex smoker  day    time  size\n",
       "0    16.99000 1.01000  Female     No  Sun  Dinner     2\n",
       "1    10.34000 1.66000    Male     No  Sun  Dinner     3\n",
       "2    21.01000 3.50000    Male     No  Sun  Dinner     3\n",
       "3    23.68000 3.31000    Male     No  Sun  Dinner     2\n",
       "4    24.59000 3.61000  Female     No  Sun  Dinner     4"
      ]
     },
     "execution_count": 60,
     "metadata": {},
     "output_type": "execute_result"
    }
   ],
   "source": [
    "df = sns.load_dataset(\"tips\")\n",
    "df.head()"
   ]
  },
  {
   "cell_type": "code",
   "execution_count": 61,
   "id": "d2f3564d-f2c8-44db-bde7-1f9bb5164f60",
   "metadata": {},
   "outputs": [
    {
     "name": "stderr",
     "output_type": "stream",
     "text": [
      "C:\\Users\\ASUS\\AppData\\Local\\Temp\\ipykernel_12256\\2472984912.py:1: FutureWarning: The default of observed=False is deprecated and will be changed to True in a future version of pandas. Pass observed=False to retain current behavior or observed=True to adopt the future default and silence this warning.\n",
      "  df.groupby(\"day\")[\"total_bill\"].mean()\n"
     ]
    },
    {
     "data": {
      "text/plain": [
       "day\n",
       "Thur   17.68274\n",
       "Fri    17.15158\n",
       "Sat    20.44138\n",
       "Sun    21.41000\n",
       "Name: total_bill, dtype: float64"
      ]
     },
     "execution_count": 61,
     "metadata": {},
     "output_type": "execute_result"
    }
   ],
   "source": [
    "df.groupby(\"day\")[\"total_bill\"].mean()"
   ]
  },
  {
   "cell_type": "code",
   "execution_count": 62,
   "id": "6fb6816b-ce0c-47c3-ae99-4192271f41ec",
   "metadata": {},
   "outputs": [],
   "source": [
    "# STEP-1\n",
    "# HO: m1 = m2 = m3 = m4 (There is NO difference between group averages.)\n",
    "# H1: (There is difference between group averages.)"
   ]
  },
  {
   "cell_type": "code",
   "execution_count": 63,
   "id": "40e7c379-c3b5-4faa-abbe-db03b4927544",
   "metadata": {},
   "outputs": [],
   "source": [
    "# STEP-2\n",
    "# ---Normality Assumption---\n",
    "# H0: Normal distribution assumption is met.\n",
    "# H1: Normal distribution assumption is NOT met.\n",
    "# ---Variance Homogeneity Assumption (levene Test Usage)---\n",
    "# H0: Variances Are Homogeneous\n",
    "# H1: Variances Are NOT Homogeneous\n",
    "\n",
    "# If the assumption is met, ONE-WAY ANOVA.\n",
    "# If the assumption is not met, KRUSKAL"
   ]
  },
  {
   "cell_type": "code",
   "execution_count": 64,
   "id": "9aa68d7f-21fe-4bc2-9c02-5314e03d8acb",
   "metadata": {},
   "outputs": [
    {
     "name": "stdout",
     "output_type": "stream",
     "text": [
      "Sun p-value: 0.0036\n",
      "Sat p-value: 0.0000\n",
      "Thur p-value: 0.0000\n",
      "Fri p-value: 0.0409\n"
     ]
    }
   ],
   "source": [
    "# H0: Normal distribution assumption is met.\n",
    "for group in list(df[\"day\"].unique()):\n",
    "    pvalue = shapiro(df.loc[df[\"day\"] == group, \"total_bill\"])[1]\n",
    "    print(group, 'p-value: %.4f' % pvalue)"
   ]
  },
  {
   "cell_type": "code",
   "execution_count": 65,
   "id": "ce8d3bbf-dadb-4ecd-a88d-363553c37663",
   "metadata": {},
   "outputs": [
    {
     "name": "stdout",
     "output_type": "stream",
     "text": [
      "Test Stat = 0.6654, p-value = 0.5741\n"
     ]
    }
   ],
   "source": [
    "# H0: The assumption of variance homogeneity is satisfied.\n",
    "test_stat, pvalue = levene(df.loc[df[\"day\"] == \"Sun\", \"total_bill\"],\n",
    "                           df.loc[df[\"day\"] == \"Sat\", \"total_bill\"],\n",
    "                           df.loc[df[\"day\"] == \"Thur\", \"total_bill\"],\n",
    "                           df.loc[df[\"day\"] == \"Fri\", \"total_bill\"])\n",
    "print('Test Stat = %.4f, p-value = %.4f' % (test_stat, pvalue))"
   ]
  },
  {
   "cell_type": "code",
   "execution_count": 66,
   "id": "53b5288f-45d2-4778-a420-b51cbda67643",
   "metadata": {},
   "outputs": [
    {
     "name": "stderr",
     "output_type": "stream",
     "text": [
      "C:\\Users\\ASUS\\AppData\\Local\\Temp\\ipykernel_12256\\2604302014.py:4: FutureWarning: The default of observed=False is deprecated and will be changed to True in a future version of pandas. Pass observed=False to retain current behavior or observed=True to adopt the future default and silence this warning.\n",
      "  df.groupby(\"day\").agg({\"total_bill\": [\"mean\", \"median\"]})\n"
     ]
    },
    {
     "data": {
      "text/html": [
       "<div>\n",
       "<style scoped>\n",
       "    .dataframe tbody tr th:only-of-type {\n",
       "        vertical-align: middle;\n",
       "    }\n",
       "\n",
       "    .dataframe tbody tr th {\n",
       "        vertical-align: top;\n",
       "    }\n",
       "\n",
       "    .dataframe thead tr th {\n",
       "        text-align: left;\n",
       "    }\n",
       "\n",
       "    .dataframe thead tr:last-of-type th {\n",
       "        text-align: right;\n",
       "    }\n",
       "</style>\n",
       "<table border=\"1\" class=\"dataframe\">\n",
       "  <thead>\n",
       "    <tr>\n",
       "      <th></th>\n",
       "      <th colspan=\"2\" halign=\"left\">total_bill</th>\n",
       "    </tr>\n",
       "    <tr>\n",
       "      <th></th>\n",
       "      <th>mean</th>\n",
       "      <th>median</th>\n",
       "    </tr>\n",
       "    <tr>\n",
       "      <th>day</th>\n",
       "      <th></th>\n",
       "      <th></th>\n",
       "    </tr>\n",
       "  </thead>\n",
       "  <tbody>\n",
       "    <tr>\n",
       "      <th>Thur</th>\n",
       "      <td>17.68274</td>\n",
       "      <td>16.20000</td>\n",
       "    </tr>\n",
       "    <tr>\n",
       "      <th>Fri</th>\n",
       "      <td>17.15158</td>\n",
       "      <td>15.38000</td>\n",
       "    </tr>\n",
       "    <tr>\n",
       "      <th>Sat</th>\n",
       "      <td>20.44138</td>\n",
       "      <td>18.24000</td>\n",
       "    </tr>\n",
       "    <tr>\n",
       "      <th>Sun</th>\n",
       "      <td>21.41000</td>\n",
       "      <td>19.63000</td>\n",
       "    </tr>\n",
       "  </tbody>\n",
       "</table>\n",
       "</div>"
      ],
      "text/plain": [
       "     total_bill         \n",
       "           mean   median\n",
       "day                     \n",
       "Thur   17.68274 16.20000\n",
       "Fri    17.15158 15.38000\n",
       "Sat    20.44138 18.24000\n",
       "Sun    21.41000 19.63000"
      ]
     },
     "execution_count": 66,
     "metadata": {},
     "output_type": "execute_result"
    }
   ],
   "source": [
    "# STEP-3\n",
    "# Hypothesis test & p-value evaluation\n",
    "# None of them provide normal distribution.\n",
    "df.groupby(\"day\").agg({\"total_bill\": [\"mean\", \"median\"]})"
   ]
  },
  {
   "cell_type": "code",
   "execution_count": 67,
   "id": "af9a2963-995e-4060-92c3-3d6984803919",
   "metadata": {},
   "outputs": [
    {
     "data": {
      "text/plain": [
       "F_onewayResult(statistic=2.7674794432863363, pvalue=0.04245383328952047)"
      ]
     },
     "execution_count": 67,
     "metadata": {},
     "output_type": "execute_result"
    }
   ],
   "source": [
    "# parametric anova test:\n",
    "f_oneway(df.loc[df[\"day\"] == \"Thur\", \"total_bill\"],\n",
    "         df.loc[df[\"day\"] == \"Fri\", \"total_bill\"],\n",
    "         df.loc[df[\"day\"] == \"Sat\", \"total_bill\"],\n",
    "         df.loc[df[\"day\"] == \"Sun\", \"total_bill\"])"
   ]
  },
  {
   "cell_type": "code",
   "execution_count": 68,
   "id": "ff9b8772-e153-487a-a40f-169270b38ae3",
   "metadata": {},
   "outputs": [
    {
     "data": {
      "text/plain": [
       "KruskalResult(statistic=10.403076391437086, pvalue=0.01543300820104127)"
      ]
     },
     "execution_count": 68,
     "metadata": {},
     "output_type": "execute_result"
    }
   ],
   "source": [
    "# Nonparametric anova test:\n",
    "kruskal(df.loc[df[\"day\"] == \"Thur\", \"total_bill\"],\n",
    "        df.loc[df[\"day\"] == \"Fri\", \"total_bill\"],\n",
    "        df.loc[df[\"day\"] == \"Sat\", \"total_bill\"],\n",
    "        df.loc[df[\"day\"] == \"Sun\", \"total_bill\"])"
   ]
  },
  {
   "cell_type": "code",
   "execution_count": 69,
   "id": "92b98c1b-26b2-4277-8b7d-53bfc425e8b2",
   "metadata": {},
   "outputs": [],
   "source": [
    "# KruskalResult(statistic=10.403076391437086, pvalue=0.01543300820104127) => H0 REFUSED.\n",
    "#There is a statistically significant difference between the groups."
   ]
  },
  {
   "cell_type": "code",
   "execution_count": 70,
   "id": "ab2f7a11-2a99-47a7-88cd-c794141700b4",
   "metadata": {},
   "outputs": [
    {
     "name": "stdout",
     "output_type": "stream",
     "text": [
      "Multiple Comparison of Means - Tukey HSD, FWER=0.09 \n",
      "====================================================\n",
      "group1 group2 meandiff p-adj   lower   upper  reject\n",
      "----------------------------------------------------\n",
      "   Fri    Sat   3.2898 0.4541 -1.9494   8.529  False\n",
      "   Fri    Sun   4.2584 0.2371 -1.0483  9.5652  False\n",
      "   Fri   Thur   0.5312 0.9957 -4.8941  5.9564  False\n",
      "   Sat    Sun   0.9686 0.8968 -2.2798  4.2171  False\n",
      "   Sat   Thur  -2.7586 0.2374 -6.1973    0.68  False\n",
      "   Sun   Thur  -3.7273 0.0668 -7.2679 -0.1866   True\n",
      "----------------------------------------------------\n"
     ]
    }
   ],
   "source": [
    "# Which Group Causes the Difference?:\n",
    "from statsmodels.stats.multicomp import MultiComparison\n",
    "comparison = MultiComparison(df['total_bill'], df['day'])\n",
    "tukey = comparison.tukeyhsd(0.09)\n",
    "print(tukey.summary())"
   ]
  }
 ],
 "metadata": {
  "kernelspec": {
   "display_name": "Python 3 (ipykernel)",
   "language": "python",
   "name": "python3"
  },
  "language_info": {
   "codemirror_mode": {
    "name": "ipython",
    "version": 3
   },
   "file_extension": ".py",
   "mimetype": "text/x-python",
   "name": "python",
   "nbconvert_exporter": "python",
   "pygments_lexer": "ipython3",
   "version": "3.11.5"
  }
 },
 "nbformat": 4,
 "nbformat_minor": 5
}
